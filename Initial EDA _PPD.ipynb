{
 "cells": [
  {
   "cell_type": "markdown",
   "metadata": {},
   "source": [
    "# PROJECT TITLE: Predicting and Aiding Post-partum Depression Symptoms via Talkbot"
   ]
  },
  {
   "cell_type": "markdown",
   "metadata": {},
   "source": [
    "MEMBERS: Navina, Uthara, Harshaadhithya"
   ]
  },
  {
   "cell_type": "markdown",
   "metadata": {},
   "source": [
    "# Introduction\n",
    "\n",
    "\n",
    "Postpartum depression is a mental illness that affects the behavior and physical health of new mothers. According to [Womenshealth.gov](https://www.womenshealth.gov/mental-health/mental-health-conditions/postpartum-depression), It is not uncommon for new mothers to experience brief periods of sadness and other symptoms of postpartum depression  after giving birth.  <br> \n",
    "One  out of every nine new mothers are confronted with feelings of sadness, inability to sleep, eating too much or not enough, and inability to focus  that exceeds 2 weeks.<br>\n",
    "Many of these women don't seek  professional help in fear of being viewed as being a bad mother. Women who have low social support and previous history of depression are at risk for developing Postpartum depression. <br>\n",
    "It is also possible for women who don’t have any health issues to develop the illness.  If left untreated, Postpartum depression can negatively impact the mother's ability to provide the care needed to raise a  healthy child. <br>\n",
    "\n",
    "Another concerning mental  illness, closely aligned with Postpartum depression  is Postpartum psychosis. This is  a medical emergency that  occurs in up to 4 new mothers out of every 1,000 births. Hurting themselves or their baby is one of several symptoms that may be experienced by mothers with this condition. <br>\n",
    "\n",
    "Our Project will analyze the questionnaire answers to determine if the dataset aligns with the research that indicates one out of nine  new mothers develop Postpartum depression and  4 new mothers out of 1,000 develop Postpartum psychosis.<br>[Womenshealth.gov](https://www.womenshealth.gov/mental-health/mental-health-conditions/postpartum-depression).\n",
    "\n",
    "\n",
    "\n"
   ]
  },
  {
   "cell_type": "markdown",
   "metadata": {},
   "source": [
    "# Dataset Link:\n",
    "https://www.kaggle.com/datasets/parvezalmuqtadir2348/postpartum-depression\n"
   ]
  },
  {
   "cell_type": "markdown",
   "metadata": {},
   "source": [
    "# Data Importing"
   ]
  },
  {
   "cell_type": "code",
   "execution_count": 2,
   "metadata": {
    "_cell_guid": "b1076dfc-b9ad-4769-8c92-a6c4dae69d19",
    "_kg_hide-input": false,
    "_uuid": "8f2839f25d086af736a60e9eeb907d3b93b6e0e5",
    "execution": {
     "iopub.execute_input": "2023-02-17T05:56:58.873003Z",
     "iopub.status.busy": "2023-02-17T05:56:58.872108Z",
     "iopub.status.idle": "2023-02-17T05:56:59.258256Z",
     "shell.execute_reply": "2023-02-17T05:56:59.256958Z",
     "shell.execute_reply.started": "2023-02-17T05:56:58.872963Z"
    }
   },
   "outputs": [],
   "source": [
    "\n",
    "import numpy as np \n",
    "import scipy.stats\n",
    "import pandas as pd \n",
    "\n",
    "import os\n",
    "for dirname, _, filenames in os.walk('/kaggle/input'):\n",
    "    for filename in filenames:\n",
    "        print(os.path.join(dirname, filename))\n",
    "\n"
   ]
  },
  {
   "cell_type": "code",
   "execution_count": 3,
   "metadata": {
    "_kg_hide-input": false,
    "execution": {
     "iopub.execute_input": "2023-02-17T05:56:59.262941Z",
     "iopub.status.busy": "2023-02-17T05:56:59.260910Z",
     "iopub.status.idle": "2023-02-17T05:56:59.574342Z",
     "shell.execute_reply": "2023-02-17T05:56:59.573207Z",
     "shell.execute_reply.started": "2023-02-17T05:56:59.262900Z"
    }
   },
   "outputs": [],
   "source": [
    "import matplotlib.pyplot as plt\n",
    "import matplotlib.pyplot as pp\n",
    "import seaborn as sns\n",
    "\n",
    "import pandas.plotting\n",
    "\n",
    "from IPython import display\n",
    "from ipywidgets import interact, widgets\n",
    "\n",
    "%matplotlib inline"
   ]
  },
  {
   "cell_type": "code",
   "execution_count": 4,
   "metadata": {
    "_kg_hide-input": false,
    "execution": {
     "iopub.execute_input": "2023-02-17T05:56:59.576553Z",
     "iopub.status.busy": "2023-02-17T05:56:59.576190Z",
     "iopub.status.idle": "2023-02-17T05:56:59.584982Z",
     "shell.execute_reply": "2023-02-17T05:56:59.583877Z",
     "shell.execute_reply.started": "2023-02-17T05:56:59.576522Z"
    }
   },
   "outputs": [],
   "source": [
    "import re\n",
    "import mailbox\n",
    "import csv"
   ]
  },
  {
   "cell_type": "code",
   "execution_count": 5,
   "metadata": {
    "_kg_hide-input": false,
    "execution": {
     "iopub.execute_input": "2023-02-17T05:56:59.587094Z",
     "iopub.status.busy": "2023-02-17T05:56:59.586737Z",
     "iopub.status.idle": "2023-02-17T05:56:59.614737Z",
     "shell.execute_reply": "2023-02-17T05:56:59.613583Z",
     "shell.execute_reply.started": "2023-02-17T05:56:59.587064Z"
    }
   },
   "outputs": [],
   "source": [
    "\n",
    "df = pd.read_csv(r\"D:\\Datasets\\post natal data.csv\")"
   ]
  },
  {
   "cell_type": "markdown",
   "metadata": {},
   "source": [
    "# Data Outline"
   ]
  },
  {
   "cell_type": "code",
   "execution_count": 6,
   "metadata": {
    "_kg_hide-input": false,
    "execution": {
     "iopub.execute_input": "2023-02-17T05:56:59.617956Z",
     "iopub.status.busy": "2023-02-17T05:56:59.617368Z",
     "iopub.status.idle": "2023-02-17T05:56:59.645165Z",
     "shell.execute_reply": "2023-02-17T05:56:59.644052Z",
     "shell.execute_reply.started": "2023-02-17T05:56:59.617921Z"
    }
   },
   "outputs": [
    {
     "data": {
      "text/html": [
       "<div>\n",
       "<style scoped>\n",
       "    .dataframe tbody tr th:only-of-type {\n",
       "        vertical-align: middle;\n",
       "    }\n",
       "\n",
       "    .dataframe tbody tr th {\n",
       "        vertical-align: top;\n",
       "    }\n",
       "\n",
       "    .dataframe thead th {\n",
       "        text-align: right;\n",
       "    }\n",
       "</style>\n",
       "<table border=\"1\" class=\"dataframe\">\n",
       "  <thead>\n",
       "    <tr style=\"text-align: right;\">\n",
       "      <th></th>\n",
       "      <th>Timestamp</th>\n",
       "      <th>Age</th>\n",
       "      <th>Feeling sad or Tearful</th>\n",
       "      <th>Irritable towards baby &amp; partner</th>\n",
       "      <th>Trouble sleeping at night</th>\n",
       "      <th>Problems concentrating or making decision</th>\n",
       "      <th>Overeating or loss of appetite</th>\n",
       "      <th>Feeling anxious</th>\n",
       "      <th>Feeling of guilt</th>\n",
       "      <th>Problems of bonding with baby</th>\n",
       "      <th>Suicide attempt</th>\n",
       "    </tr>\n",
       "  </thead>\n",
       "  <tbody>\n",
       "    <tr>\n",
       "      <th>0</th>\n",
       "      <td>6/14/2022 20:02</td>\n",
       "      <td>35-40</td>\n",
       "      <td>Yes</td>\n",
       "      <td>Yes</td>\n",
       "      <td>Two or more days a week</td>\n",
       "      <td>Yes</td>\n",
       "      <td>Yes</td>\n",
       "      <td>Yes</td>\n",
       "      <td>No</td>\n",
       "      <td>Yes</td>\n",
       "      <td>Yes</td>\n",
       "    </tr>\n",
       "    <tr>\n",
       "      <th>1</th>\n",
       "      <td>6/14/2022 20:03</td>\n",
       "      <td>40-45</td>\n",
       "      <td>Yes</td>\n",
       "      <td>No</td>\n",
       "      <td>No</td>\n",
       "      <td>Yes</td>\n",
       "      <td>Yes</td>\n",
       "      <td>No</td>\n",
       "      <td>Yes</td>\n",
       "      <td>Yes</td>\n",
       "      <td>No</td>\n",
       "    </tr>\n",
       "    <tr>\n",
       "      <th>2</th>\n",
       "      <td>6/14/2022 20:04</td>\n",
       "      <td>35-40</td>\n",
       "      <td>Yes</td>\n",
       "      <td>No</td>\n",
       "      <td>Yes</td>\n",
       "      <td>Yes</td>\n",
       "      <td>Yes</td>\n",
       "      <td>Yes</td>\n",
       "      <td>No</td>\n",
       "      <td>Sometimes</td>\n",
       "      <td>No</td>\n",
       "    </tr>\n",
       "    <tr>\n",
       "      <th>3</th>\n",
       "      <td>6/14/2022 20:05</td>\n",
       "      <td>35-40</td>\n",
       "      <td>Yes</td>\n",
       "      <td>Yes</td>\n",
       "      <td>Yes</td>\n",
       "      <td>Yes</td>\n",
       "      <td>No</td>\n",
       "      <td>Yes</td>\n",
       "      <td>Maybe</td>\n",
       "      <td>No</td>\n",
       "      <td>No</td>\n",
       "    </tr>\n",
       "    <tr>\n",
       "      <th>4</th>\n",
       "      <td>6/14/2022 20:06</td>\n",
       "      <td>40-45</td>\n",
       "      <td>Yes</td>\n",
       "      <td>No</td>\n",
       "      <td>Two or more days a week</td>\n",
       "      <td>Yes</td>\n",
       "      <td>No</td>\n",
       "      <td>Yes</td>\n",
       "      <td>No</td>\n",
       "      <td>Yes</td>\n",
       "      <td>No</td>\n",
       "    </tr>\n",
       "  </tbody>\n",
       "</table>\n",
       "</div>"
      ],
      "text/plain": [
       "         Timestamp    Age Feeling sad or Tearful  \\\n",
       "0  6/14/2022 20:02  35-40                    Yes   \n",
       "1  6/14/2022 20:03  40-45                    Yes   \n",
       "2  6/14/2022 20:04  35-40                    Yes   \n",
       "3  6/14/2022 20:05  35-40                    Yes   \n",
       "4  6/14/2022 20:06  40-45                    Yes   \n",
       "\n",
       "  Irritable towards baby & partner Trouble sleeping at night  \\\n",
       "0                              Yes   Two or more days a week   \n",
       "1                               No                        No   \n",
       "2                               No                       Yes   \n",
       "3                              Yes                       Yes   \n",
       "4                               No   Two or more days a week   \n",
       "\n",
       "  Problems concentrating or making decision Overeating or loss of appetite  \\\n",
       "0                                       Yes                            Yes   \n",
       "1                                       Yes                            Yes   \n",
       "2                                       Yes                            Yes   \n",
       "3                                       Yes                             No   \n",
       "4                                       Yes                             No   \n",
       "\n",
       "  Feeling anxious Feeling of guilt Problems of bonding with baby  \\\n",
       "0             Yes               No                           Yes   \n",
       "1              No              Yes                           Yes   \n",
       "2             Yes               No                     Sometimes   \n",
       "3             Yes            Maybe                            No   \n",
       "4             Yes               No                           Yes   \n",
       "\n",
       "  Suicide attempt  \n",
       "0             Yes  \n",
       "1              No  \n",
       "2              No  \n",
       "3              No  \n",
       "4              No  "
      ]
     },
     "execution_count": 6,
     "metadata": {},
     "output_type": "execute_result"
    }
   ],
   "source": [
    "\n",
    "df.head() "
   ]
  },
  {
   "cell_type": "code",
   "execution_count": 7,
   "metadata": {
    "_kg_hide-input": false,
    "execution": {
     "iopub.execute_input": "2023-02-17T05:56:59.646817Z",
     "iopub.status.busy": "2023-02-17T05:56:59.646490Z",
     "iopub.status.idle": "2023-02-17T05:56:59.653645Z",
     "shell.execute_reply": "2023-02-17T05:56:59.652439Z",
     "shell.execute_reply.started": "2023-02-17T05:56:59.646780Z"
    }
   },
   "outputs": [
    {
     "data": {
      "text/plain": [
       "(1503, 11)"
      ]
     },
     "execution_count": 7,
     "metadata": {},
     "output_type": "execute_result"
    }
   ],
   "source": [
    "\n",
    "df.shape"
   ]
  },
  {
   "cell_type": "code",
   "execution_count": 8,
   "metadata": {
    "_kg_hide-input": false,
    "execution": {
     "iopub.execute_input": "2023-02-17T05:56:59.655425Z",
     "iopub.status.busy": "2023-02-17T05:56:59.655060Z",
     "iopub.status.idle": "2023-02-17T05:56:59.666931Z",
     "shell.execute_reply": "2023-02-17T05:56:59.665643Z",
     "shell.execute_reply.started": "2023-02-17T05:56:59.655395Z"
    }
   },
   "outputs": [
    {
     "data": {
      "text/plain": [
       "Index(['Timestamp', 'Age', 'Feeling sad or Tearful',\n",
       "       'Irritable towards baby & partner', 'Trouble sleeping at night',\n",
       "       'Problems concentrating or making decision',\n",
       "       'Overeating or loss of appetite', 'Feeling anxious', 'Feeling of guilt',\n",
       "       'Problems of bonding with baby', 'Suicide attempt'],\n",
       "      dtype='object')"
      ]
     },
     "execution_count": 8,
     "metadata": {},
     "output_type": "execute_result"
    }
   ],
   "source": [
    "\n",
    "\n",
    "df.columns"
   ]
  },
  {
   "cell_type": "markdown",
   "metadata": {},
   "source": [
    "# Data Cleaning"
   ]
  },
  {
   "cell_type": "code",
   "execution_count": 9,
   "metadata": {
    "_kg_hide-input": false,
    "execution": {
     "iopub.execute_input": "2023-02-17T05:56:59.669031Z",
     "iopub.status.busy": "2023-02-17T05:56:59.668631Z",
     "iopub.status.idle": "2023-02-17T05:56:59.684029Z",
     "shell.execute_reply": "2023-02-17T05:56:59.682800Z",
     "shell.execute_reply.started": "2023-02-17T05:56:59.668998Z"
    }
   },
   "outputs": [
    {
     "data": {
      "text/plain": [
       "Timestamp                                     0\n",
       "Age                                           0\n",
       "Feeling sad or Tearful                        0\n",
       "Irritable towards baby & partner              6\n",
       "Trouble sleeping at night                     0\n",
       "Problems concentrating or making decision    12\n",
       "Overeating or loss of appetite                0\n",
       "Feeling anxious                               0\n",
       "Feeling of guilt                              9\n",
       "Problems of bonding with baby                 0\n",
       "Suicide attempt                               0\n",
       "dtype: int64"
      ]
     },
     "execution_count": 9,
     "metadata": {},
     "output_type": "execute_result"
    }
   ],
   "source": [
    "# Locating missing values\n",
    "df.isnull().sum()"
   ]
  },
  {
   "cell_type": "code",
   "execution_count": 10,
   "metadata": {
    "_kg_hide-input": false,
    "execution": {
     "iopub.execute_input": "2023-02-17T05:56:59.686543Z",
     "iopub.status.busy": "2023-02-17T05:56:59.686088Z",
     "iopub.status.idle": "2023-02-17T05:56:59.697566Z",
     "shell.execute_reply": "2023-02-17T05:56:59.696405Z",
     "shell.execute_reply.started": "2023-02-17T05:56:59.686501Z"
    }
   },
   "outputs": [],
   "source": [
    "# Drop missing values \n",
    "df = df.dropna()"
   ]
  },
  {
   "cell_type": "code",
   "execution_count": 11,
   "metadata": {
    "_kg_hide-input": false,
    "execution": {
     "iopub.execute_input": "2023-02-17T05:56:59.699447Z",
     "iopub.status.busy": "2023-02-17T05:56:59.699057Z",
     "iopub.status.idle": "2023-02-17T05:56:59.713237Z",
     "shell.execute_reply": "2023-02-17T05:56:59.712407Z",
     "shell.execute_reply.started": "2023-02-17T05:56:59.699414Z"
    }
   },
   "outputs": [
    {
     "data": {
      "text/plain": [
       "0"
      ]
     },
     "execution_count": 11,
     "metadata": {},
     "output_type": "execute_result"
    }
   ],
   "source": [
    "# Confirm missing values have been dropped\n",
    "df.isna().sum().sum()"
   ]
  },
  {
   "cell_type": "code",
   "execution_count": 12,
   "metadata": {
    "_kg_hide-input": false,
    "execution": {
     "iopub.execute_input": "2023-02-17T05:56:59.715516Z",
     "iopub.status.busy": "2023-02-17T05:56:59.714534Z",
     "iopub.status.idle": "2023-02-17T05:56:59.729553Z",
     "shell.execute_reply": "2023-02-17T05:56:59.728391Z",
     "shell.execute_reply.started": "2023-02-17T05:56:59.715476Z"
    }
   },
   "outputs": [],
   "source": [
    "# Rename columns with long names. \n",
    "\n",
    "df.rename(columns = {'Feeling sad or Tearful':'Sad_Tearful',\n",
    "       'Irritable towards baby & partner':'Irritable', 'Trouble sleeping at night': 'Trouble_Sleeping',\n",
    "       'Problems concentrating or making decision':'Problems_Focusing',\n",
    "       'Overeating or loss of appetite': 'Eating_Disorder', 'Feeling anxious': 'Anxious', 'Feeling of guilt':'Guilt', \n",
    "       'Problems of bonding with baby':'Problems_Bonding','Suicide attempt':'Suicide_Attempt'},inplace = True)"
   ]
  },
  {
   "cell_type": "markdown",
   "metadata": {},
   "source": [
    "# Data Details"
   ]
  },
  {
   "cell_type": "code",
   "execution_count": 13,
   "metadata": {
    "execution": {
     "iopub.execute_input": "2023-02-17T05:56:59.731768Z",
     "iopub.status.busy": "2023-02-17T05:56:59.730795Z",
     "iopub.status.idle": "2023-02-17T05:56:59.760549Z",
     "shell.execute_reply": "2023-02-17T05:56:59.759589Z",
     "shell.execute_reply.started": "2023-02-17T05:56:59.731723Z"
    }
   },
   "outputs": [
    {
     "data": {
      "text/html": [
       "<div>\n",
       "<style scoped>\n",
       "    .dataframe tbody tr th:only-of-type {\n",
       "        vertical-align: middle;\n",
       "    }\n",
       "\n",
       "    .dataframe tbody tr th {\n",
       "        vertical-align: top;\n",
       "    }\n",
       "\n",
       "    .dataframe thead th {\n",
       "        text-align: right;\n",
       "    }\n",
       "</style>\n",
       "<table border=\"1\" class=\"dataframe\">\n",
       "  <thead>\n",
       "    <tr style=\"text-align: right;\">\n",
       "      <th></th>\n",
       "      <th>Timestamp</th>\n",
       "      <th>Age</th>\n",
       "      <th>Sad_Tearful</th>\n",
       "      <th>Irritable</th>\n",
       "      <th>Trouble_Sleeping</th>\n",
       "      <th>Problems_Focusing</th>\n",
       "      <th>Eating_Disorder</th>\n",
       "      <th>Anxious</th>\n",
       "      <th>Guilt</th>\n",
       "      <th>Problems_Bonding</th>\n",
       "      <th>Suicide_Attempt</th>\n",
       "    </tr>\n",
       "  </thead>\n",
       "  <tbody>\n",
       "    <tr>\n",
       "      <th>0</th>\n",
       "      <td>6/14/2022 20:02</td>\n",
       "      <td>35-40</td>\n",
       "      <td>Yes</td>\n",
       "      <td>Yes</td>\n",
       "      <td>Two or more days a week</td>\n",
       "      <td>Yes</td>\n",
       "      <td>Yes</td>\n",
       "      <td>Yes</td>\n",
       "      <td>No</td>\n",
       "      <td>Yes</td>\n",
       "      <td>Yes</td>\n",
       "    </tr>\n",
       "    <tr>\n",
       "      <th>1</th>\n",
       "      <td>6/14/2022 20:03</td>\n",
       "      <td>40-45</td>\n",
       "      <td>Yes</td>\n",
       "      <td>No</td>\n",
       "      <td>No</td>\n",
       "      <td>Yes</td>\n",
       "      <td>Yes</td>\n",
       "      <td>No</td>\n",
       "      <td>Yes</td>\n",
       "      <td>Yes</td>\n",
       "      <td>No</td>\n",
       "    </tr>\n",
       "    <tr>\n",
       "      <th>2</th>\n",
       "      <td>6/14/2022 20:04</td>\n",
       "      <td>35-40</td>\n",
       "      <td>Yes</td>\n",
       "      <td>No</td>\n",
       "      <td>Yes</td>\n",
       "      <td>Yes</td>\n",
       "      <td>Yes</td>\n",
       "      <td>Yes</td>\n",
       "      <td>No</td>\n",
       "      <td>Sometimes</td>\n",
       "      <td>No</td>\n",
       "    </tr>\n",
       "    <tr>\n",
       "      <th>3</th>\n",
       "      <td>6/14/2022 20:05</td>\n",
       "      <td>35-40</td>\n",
       "      <td>Yes</td>\n",
       "      <td>Yes</td>\n",
       "      <td>Yes</td>\n",
       "      <td>Yes</td>\n",
       "      <td>No</td>\n",
       "      <td>Yes</td>\n",
       "      <td>Maybe</td>\n",
       "      <td>No</td>\n",
       "      <td>No</td>\n",
       "    </tr>\n",
       "    <tr>\n",
       "      <th>4</th>\n",
       "      <td>6/14/2022 20:06</td>\n",
       "      <td>40-45</td>\n",
       "      <td>Yes</td>\n",
       "      <td>No</td>\n",
       "      <td>Two or more days a week</td>\n",
       "      <td>Yes</td>\n",
       "      <td>No</td>\n",
       "      <td>Yes</td>\n",
       "      <td>No</td>\n",
       "      <td>Yes</td>\n",
       "      <td>No</td>\n",
       "    </tr>\n",
       "    <tr>\n",
       "      <th>...</th>\n",
       "      <td>...</td>\n",
       "      <td>...</td>\n",
       "      <td>...</td>\n",
       "      <td>...</td>\n",
       "      <td>...</td>\n",
       "      <td>...</td>\n",
       "      <td>...</td>\n",
       "      <td>...</td>\n",
       "      <td>...</td>\n",
       "      <td>...</td>\n",
       "      <td>...</td>\n",
       "    </tr>\n",
       "    <tr>\n",
       "      <th>1498</th>\n",
       "      <td>6/15/2022 0:35</td>\n",
       "      <td>30-35</td>\n",
       "      <td>Yes</td>\n",
       "      <td>No</td>\n",
       "      <td>Two or more days a week</td>\n",
       "      <td>No</td>\n",
       "      <td>No</td>\n",
       "      <td>Yes</td>\n",
       "      <td>Maybe</td>\n",
       "      <td>Sometimes</td>\n",
       "      <td>No</td>\n",
       "    </tr>\n",
       "    <tr>\n",
       "      <th>1499</th>\n",
       "      <td>6/15/2022 0:35</td>\n",
       "      <td>25-30</td>\n",
       "      <td>Sometimes</td>\n",
       "      <td>No</td>\n",
       "      <td>No</td>\n",
       "      <td>Often</td>\n",
       "      <td>No</td>\n",
       "      <td>Yes</td>\n",
       "      <td>Maybe</td>\n",
       "      <td>Yes</td>\n",
       "      <td>No</td>\n",
       "    </tr>\n",
       "    <tr>\n",
       "      <th>1500</th>\n",
       "      <td>6/15/2022 0:35</td>\n",
       "      <td>25-30</td>\n",
       "      <td>No</td>\n",
       "      <td>Sometimes</td>\n",
       "      <td>Two or more days a week</td>\n",
       "      <td>No</td>\n",
       "      <td>No</td>\n",
       "      <td>No</td>\n",
       "      <td>Yes</td>\n",
       "      <td>No</td>\n",
       "      <td>Not interested to say</td>\n",
       "    </tr>\n",
       "    <tr>\n",
       "      <th>1501</th>\n",
       "      <td>6/15/2022 0:36</td>\n",
       "      <td>25-30</td>\n",
       "      <td>No</td>\n",
       "      <td>Sometimes</td>\n",
       "      <td>Yes</td>\n",
       "      <td>Often</td>\n",
       "      <td>No</td>\n",
       "      <td>Yes</td>\n",
       "      <td>No</td>\n",
       "      <td>No</td>\n",
       "      <td>No</td>\n",
       "    </tr>\n",
       "    <tr>\n",
       "      <th>1502</th>\n",
       "      <td>6/15/2022 0:36</td>\n",
       "      <td>45-50</td>\n",
       "      <td>Sometimes</td>\n",
       "      <td>Sometimes</td>\n",
       "      <td>Two or more days a week</td>\n",
       "      <td>No</td>\n",
       "      <td>No</td>\n",
       "      <td>No</td>\n",
       "      <td>Maybe</td>\n",
       "      <td>No</td>\n",
       "      <td>No</td>\n",
       "    </tr>\n",
       "  </tbody>\n",
       "</table>\n",
       "<p>1491 rows × 11 columns</p>\n",
       "</div>"
      ],
      "text/plain": [
       "            Timestamp    Age Sad_Tearful  Irritable         Trouble_Sleeping  \\\n",
       "0     6/14/2022 20:02  35-40         Yes        Yes  Two or more days a week   \n",
       "1     6/14/2022 20:03  40-45         Yes         No                       No   \n",
       "2     6/14/2022 20:04  35-40         Yes         No                      Yes   \n",
       "3     6/14/2022 20:05  35-40         Yes        Yes                      Yes   \n",
       "4     6/14/2022 20:06  40-45         Yes         No  Two or more days a week   \n",
       "...               ...    ...         ...        ...                      ...   \n",
       "1498   6/15/2022 0:35  30-35         Yes         No  Two or more days a week   \n",
       "1499   6/15/2022 0:35  25-30   Sometimes         No                       No   \n",
       "1500   6/15/2022 0:35  25-30          No  Sometimes  Two or more days a week   \n",
       "1501   6/15/2022 0:36  25-30          No  Sometimes                      Yes   \n",
       "1502   6/15/2022 0:36  45-50   Sometimes  Sometimes  Two or more days a week   \n",
       "\n",
       "     Problems_Focusing Eating_Disorder Anxious  Guilt Problems_Bonding  \\\n",
       "0                  Yes             Yes     Yes     No              Yes   \n",
       "1                  Yes             Yes      No    Yes              Yes   \n",
       "2                  Yes             Yes     Yes     No        Sometimes   \n",
       "3                  Yes              No     Yes  Maybe               No   \n",
       "4                  Yes              No     Yes     No              Yes   \n",
       "...                ...             ...     ...    ...              ...   \n",
       "1498                No              No     Yes  Maybe        Sometimes   \n",
       "1499             Often              No     Yes  Maybe              Yes   \n",
       "1500                No              No      No    Yes               No   \n",
       "1501             Often              No     Yes     No               No   \n",
       "1502                No              No      No  Maybe               No   \n",
       "\n",
       "            Suicide_Attempt  \n",
       "0                       Yes  \n",
       "1                        No  \n",
       "2                        No  \n",
       "3                        No  \n",
       "4                        No  \n",
       "...                     ...  \n",
       "1498                     No  \n",
       "1499                     No  \n",
       "1500  Not interested to say  \n",
       "1501                     No  \n",
       "1502                     No  \n",
       "\n",
       "[1491 rows x 11 columns]"
      ]
     },
     "execution_count": 13,
     "metadata": {},
     "output_type": "execute_result"
    }
   ],
   "source": [
    "df"
   ]
  },
  {
   "cell_type": "code",
   "execution_count": 14,
   "metadata": {
    "_kg_hide-input": false,
    "execution": {
     "iopub.execute_input": "2023-02-17T05:56:59.762496Z",
     "iopub.status.busy": "2023-02-17T05:56:59.761845Z",
     "iopub.status.idle": "2023-02-17T05:56:59.769994Z",
     "shell.execute_reply": "2023-02-17T05:56:59.768807Z",
     "shell.execute_reply.started": "2023-02-17T05:56:59.762463Z"
    }
   },
   "outputs": [
    {
     "data": {
      "text/plain": [
       "Index(['Timestamp', 'Age', 'Sad_Tearful', 'Irritable', 'Trouble_Sleeping',\n",
       "       'Problems_Focusing', 'Eating_Disorder', 'Anxious', 'Guilt',\n",
       "       'Problems_Bonding', 'Suicide_Attempt'],\n",
       "      dtype='object')"
      ]
     },
     "execution_count": 14,
     "metadata": {},
     "output_type": "execute_result"
    }
   ],
   "source": [
    "df.columns"
   ]
  },
  {
   "cell_type": "code",
   "execution_count": 15,
   "metadata": {
    "_kg_hide-input": false,
    "execution": {
     "iopub.execute_input": "2023-02-17T05:56:59.777091Z",
     "iopub.status.busy": "2023-02-17T05:56:59.776093Z",
     "iopub.status.idle": "2023-02-17T05:56:59.796239Z",
     "shell.execute_reply": "2023-02-17T05:56:59.794973Z",
     "shell.execute_reply.started": "2023-02-17T05:56:59.777052Z"
    }
   },
   "outputs": [
    {
     "data": {
      "text/html": [
       "<div>\n",
       "<style scoped>\n",
       "    .dataframe tbody tr th:only-of-type {\n",
       "        vertical-align: middle;\n",
       "    }\n",
       "\n",
       "    .dataframe tbody tr th {\n",
       "        vertical-align: top;\n",
       "    }\n",
       "\n",
       "    .dataframe thead th {\n",
       "        text-align: right;\n",
       "    }\n",
       "</style>\n",
       "<table border=\"1\" class=\"dataframe\">\n",
       "  <thead>\n",
       "    <tr style=\"text-align: right;\">\n",
       "      <th></th>\n",
       "      <th>count</th>\n",
       "    </tr>\n",
       "    <tr>\n",
       "      <th>Timestamp</th>\n",
       "      <th></th>\n",
       "    </tr>\n",
       "  </thead>\n",
       "  <tbody>\n",
       "    <tr>\n",
       "      <th>6/14/2022 22:19</th>\n",
       "      <td>43</td>\n",
       "    </tr>\n",
       "    <tr>\n",
       "      <th>6/15/2022 22:24</th>\n",
       "      <td>39</td>\n",
       "    </tr>\n",
       "    <tr>\n",
       "      <th>6/15/2022 0:31</th>\n",
       "      <td>35</td>\n",
       "    </tr>\n",
       "    <tr>\n",
       "      <th>6/15/2022 0:27</th>\n",
       "      <td>35</td>\n",
       "    </tr>\n",
       "    <tr>\n",
       "      <th>6/15/2022 0:28</th>\n",
       "      <td>35</td>\n",
       "    </tr>\n",
       "    <tr>\n",
       "      <th>...</th>\n",
       "      <td>...</td>\n",
       "    </tr>\n",
       "    <tr>\n",
       "      <th>6/14/2022 20:11</th>\n",
       "      <td>5</td>\n",
       "    </tr>\n",
       "    <tr>\n",
       "      <th>6/14/2022 20:03</th>\n",
       "      <td>4</td>\n",
       "    </tr>\n",
       "    <tr>\n",
       "      <th>6/14/2022 20:05</th>\n",
       "      <td>4</td>\n",
       "    </tr>\n",
       "    <tr>\n",
       "      <th>6/14/2022 20:04</th>\n",
       "      <td>4</td>\n",
       "    </tr>\n",
       "    <tr>\n",
       "      <th>6/14/2022 20:02</th>\n",
       "      <td>4</td>\n",
       "    </tr>\n",
       "  </tbody>\n",
       "</table>\n",
       "<p>90 rows × 1 columns</p>\n",
       "</div>"
      ],
      "text/plain": [
       "                 count\n",
       "Timestamp             \n",
       "6/14/2022 22:19     43\n",
       "6/15/2022 22:24     39\n",
       "6/15/2022 0:31      35\n",
       "6/15/2022 0:27      35\n",
       "6/15/2022 0:28      35\n",
       "...                ...\n",
       "6/14/2022 20:11      5\n",
       "6/14/2022 20:03      4\n",
       "6/14/2022 20:05      4\n",
       "6/14/2022 20:04      4\n",
       "6/14/2022 20:02      4\n",
       "\n",
       "[90 rows x 1 columns]"
      ]
     },
     "execution_count": 15,
     "metadata": {},
     "output_type": "execute_result"
    }
   ],
   "source": [
    "pd.DataFrame(df.Timestamp.value_counts())"
   ]
  },
  {
   "cell_type": "code",
   "execution_count": 16,
   "metadata": {
    "_kg_hide-input": false,
    "execution": {
     "iopub.execute_input": "2023-02-17T05:56:59.798157Z",
     "iopub.status.busy": "2023-02-17T05:56:59.797808Z",
     "iopub.status.idle": "2023-02-17T05:56:59.815054Z",
     "shell.execute_reply": "2023-02-17T05:56:59.814091Z",
     "shell.execute_reply.started": "2023-02-17T05:56:59.798127Z"
    }
   },
   "outputs": [
    {
     "data": {
      "text/html": [
       "<div>\n",
       "<style scoped>\n",
       "    .dataframe tbody tr th:only-of-type {\n",
       "        vertical-align: middle;\n",
       "    }\n",
       "\n",
       "    .dataframe tbody tr th {\n",
       "        vertical-align: top;\n",
       "    }\n",
       "\n",
       "    .dataframe thead th {\n",
       "        text-align: right;\n",
       "    }\n",
       "</style>\n",
       "<table border=\"1\" class=\"dataframe\">\n",
       "  <thead>\n",
       "    <tr style=\"text-align: right;\">\n",
       "      <th></th>\n",
       "      <th>count</th>\n",
       "    </tr>\n",
       "    <tr>\n",
       "      <th>Sad_Tearful</th>\n",
       "      <th></th>\n",
       "    </tr>\n",
       "  </thead>\n",
       "  <tbody>\n",
       "    <tr>\n",
       "      <th>Yes</th>\n",
       "      <td>527</td>\n",
       "    </tr>\n",
       "    <tr>\n",
       "      <th>No</th>\n",
       "      <td>521</td>\n",
       "    </tr>\n",
       "    <tr>\n",
       "      <th>Sometimes</th>\n",
       "      <td>443</td>\n",
       "    </tr>\n",
       "  </tbody>\n",
       "</table>\n",
       "</div>"
      ],
      "text/plain": [
       "             count\n",
       "Sad_Tearful       \n",
       "Yes            527\n",
       "No             521\n",
       "Sometimes      443"
      ]
     },
     "execution_count": 16,
     "metadata": {},
     "output_type": "execute_result"
    }
   ],
   "source": [
    "pd.DataFrame(df.Sad_Tearful.value_counts())"
   ]
  },
  {
   "cell_type": "code",
   "execution_count": 17,
   "metadata": {
    "_kg_hide-input": false,
    "execution": {
     "iopub.execute_input": "2023-02-17T05:56:59.817356Z",
     "iopub.status.busy": "2023-02-17T05:56:59.816476Z",
     "iopub.status.idle": "2023-02-17T05:56:59.828781Z",
     "shell.execute_reply": "2023-02-17T05:56:59.827678Z",
     "shell.execute_reply.started": "2023-02-17T05:56:59.817286Z"
    }
   },
   "outputs": [],
   "source": [
    "sad_tearful = df.groupby(\"Sad_Tearful\").Age.value_counts(normalize=True)"
   ]
  },
  {
   "cell_type": "code",
   "execution_count": 18,
   "metadata": {
    "_kg_hide-input": false,
    "execution": {
     "iopub.execute_input": "2023-02-17T05:56:59.830896Z",
     "iopub.status.busy": "2023-02-17T05:56:59.830352Z",
     "iopub.status.idle": "2023-02-17T05:56:59.850591Z",
     "shell.execute_reply": "2023-02-17T05:56:59.849190Z",
     "shell.execute_reply.started": "2023-02-17T05:56:59.830849Z"
    }
   },
   "outputs": [
    {
     "data": {
      "text/html": [
       "<div>\n",
       "<style scoped>\n",
       "    .dataframe tbody tr th:only-of-type {\n",
       "        vertical-align: middle;\n",
       "    }\n",
       "\n",
       "    .dataframe tbody tr th {\n",
       "        vertical-align: top;\n",
       "    }\n",
       "\n",
       "    .dataframe thead th {\n",
       "        text-align: right;\n",
       "    }\n",
       "</style>\n",
       "<table border=\"1\" class=\"dataframe\">\n",
       "  <thead>\n",
       "    <tr style=\"text-align: right;\">\n",
       "      <th>Age</th>\n",
       "      <th>25-30</th>\n",
       "      <th>30-35</th>\n",
       "      <th>35-40</th>\n",
       "      <th>40-45</th>\n",
       "      <th>45-50</th>\n",
       "    </tr>\n",
       "    <tr>\n",
       "      <th>Sad_Tearful</th>\n",
       "      <th></th>\n",
       "      <th></th>\n",
       "      <th></th>\n",
       "      <th></th>\n",
       "      <th></th>\n",
       "    </tr>\n",
       "  </thead>\n",
       "  <tbody>\n",
       "    <tr>\n",
       "      <th>No</th>\n",
       "      <td>0.122841</td>\n",
       "      <td>0.216891</td>\n",
       "      <td>0.213052</td>\n",
       "      <td>0.289827</td>\n",
       "      <td>0.157390</td>\n",
       "    </tr>\n",
       "    <tr>\n",
       "      <th>Sometimes</th>\n",
       "      <td>0.135440</td>\n",
       "      <td>0.234763</td>\n",
       "      <td>0.209932</td>\n",
       "      <td>0.180587</td>\n",
       "      <td>0.239278</td>\n",
       "    </tr>\n",
       "    <tr>\n",
       "      <th>Yes</th>\n",
       "      <td>0.108159</td>\n",
       "      <td>0.229602</td>\n",
       "      <td>0.263757</td>\n",
       "      <td>0.240987</td>\n",
       "      <td>0.157495</td>\n",
       "    </tr>\n",
       "  </tbody>\n",
       "</table>\n",
       "</div>"
      ],
      "text/plain": [
       "Age             25-30     30-35     35-40     40-45     45-50\n",
       "Sad_Tearful                                                  \n",
       "No           0.122841  0.216891  0.213052  0.289827  0.157390\n",
       "Sometimes    0.135440  0.234763  0.209932  0.180587  0.239278\n",
       "Yes          0.108159  0.229602  0.263757  0.240987  0.157495"
      ]
     },
     "execution_count": 18,
     "metadata": {},
     "output_type": "execute_result"
    }
   ],
   "source": [
    "sad_tearful.unstack()"
   ]
  },
  {
   "cell_type": "code",
   "execution_count": 19,
   "metadata": {
    "_kg_hide-input": false,
    "execution": {
     "iopub.execute_input": "2023-02-17T05:56:59.853251Z",
     "iopub.status.busy": "2023-02-17T05:56:59.852135Z",
     "iopub.status.idle": "2023-02-17T05:56:59.865180Z",
     "shell.execute_reply": "2023-02-17T05:56:59.863869Z",
     "shell.execute_reply.started": "2023-02-17T05:56:59.853213Z"
    }
   },
   "outputs": [],
   "source": [
    "irritable = df.groupby(\"Irritable\").Age.value_counts(normalize=True)"
   ]
  },
  {
   "cell_type": "code",
   "execution_count": 20,
   "metadata": {
    "_kg_hide-input": false,
    "execution": {
     "iopub.execute_input": "2023-02-17T05:56:59.867167Z",
     "iopub.status.busy": "2023-02-17T05:56:59.866832Z",
     "iopub.status.idle": "2023-02-17T05:56:59.884478Z",
     "shell.execute_reply": "2023-02-17T05:56:59.883214Z",
     "shell.execute_reply.started": "2023-02-17T05:56:59.867137Z"
    }
   },
   "outputs": [
    {
     "data": {
      "text/html": [
       "<div>\n",
       "<style scoped>\n",
       "    .dataframe tbody tr th:only-of-type {\n",
       "        vertical-align: middle;\n",
       "    }\n",
       "\n",
       "    .dataframe tbody tr th {\n",
       "        vertical-align: top;\n",
       "    }\n",
       "\n",
       "    .dataframe thead th {\n",
       "        text-align: right;\n",
       "    }\n",
       "</style>\n",
       "<table border=\"1\" class=\"dataframe\">\n",
       "  <thead>\n",
       "    <tr style=\"text-align: right;\">\n",
       "      <th>Age</th>\n",
       "      <th>25-30</th>\n",
       "      <th>30-35</th>\n",
       "      <th>35-40</th>\n",
       "      <th>40-45</th>\n",
       "      <th>45-50</th>\n",
       "    </tr>\n",
       "    <tr>\n",
       "      <th>Irritable</th>\n",
       "      <th></th>\n",
       "      <th></th>\n",
       "      <th></th>\n",
       "      <th></th>\n",
       "      <th></th>\n",
       "    </tr>\n",
       "  </thead>\n",
       "  <tbody>\n",
       "    <tr>\n",
       "      <th>No</th>\n",
       "      <td>0.150301</td>\n",
       "      <td>0.240481</td>\n",
       "      <td>0.206413</td>\n",
       "      <td>0.182365</td>\n",
       "      <td>0.220441</td>\n",
       "    </tr>\n",
       "    <tr>\n",
       "      <th>Sometimes</th>\n",
       "      <td>0.115124</td>\n",
       "      <td>0.207675</td>\n",
       "      <td>0.246050</td>\n",
       "      <td>0.266366</td>\n",
       "      <td>0.164786</td>\n",
       "    </tr>\n",
       "    <tr>\n",
       "      <th>Yes</th>\n",
       "      <td>0.100182</td>\n",
       "      <td>0.229508</td>\n",
       "      <td>0.238616</td>\n",
       "      <td>0.271403</td>\n",
       "      <td>0.160291</td>\n",
       "    </tr>\n",
       "  </tbody>\n",
       "</table>\n",
       "</div>"
      ],
      "text/plain": [
       "Age           25-30     30-35     35-40     40-45     45-50\n",
       "Irritable                                                  \n",
       "No         0.150301  0.240481  0.206413  0.182365  0.220441\n",
       "Sometimes  0.115124  0.207675  0.246050  0.266366  0.164786\n",
       "Yes        0.100182  0.229508  0.238616  0.271403  0.160291"
      ]
     },
     "execution_count": 20,
     "metadata": {},
     "output_type": "execute_result"
    }
   ],
   "source": [
    "irritable.unstack()"
   ]
  },
  {
   "cell_type": "code",
   "execution_count": 21,
   "metadata": {
    "_kg_hide-input": false,
    "execution": {
     "iopub.execute_input": "2023-02-17T05:56:59.886451Z",
     "iopub.status.busy": "2023-02-17T05:56:59.885611Z",
     "iopub.status.idle": "2023-02-17T05:56:59.898703Z",
     "shell.execute_reply": "2023-02-17T05:56:59.897800Z",
     "shell.execute_reply.started": "2023-02-17T05:56:59.886417Z"
    }
   },
   "outputs": [
    {
     "data": {
      "text/html": [
       "<div>\n",
       "<style scoped>\n",
       "    .dataframe tbody tr th:only-of-type {\n",
       "        vertical-align: middle;\n",
       "    }\n",
       "\n",
       "    .dataframe tbody tr th {\n",
       "        vertical-align: top;\n",
       "    }\n",
       "\n",
       "    .dataframe thead th {\n",
       "        text-align: right;\n",
       "    }\n",
       "</style>\n",
       "<table border=\"1\" class=\"dataframe\">\n",
       "  <thead>\n",
       "    <tr style=\"text-align: right;\">\n",
       "      <th></th>\n",
       "      <th>count</th>\n",
       "    </tr>\n",
       "    <tr>\n",
       "      <th>Trouble_Sleeping</th>\n",
       "      <th></th>\n",
       "    </tr>\n",
       "  </thead>\n",
       "  <tbody>\n",
       "    <tr>\n",
       "      <th>Two or more days a week</th>\n",
       "      <td>637</td>\n",
       "    </tr>\n",
       "    <tr>\n",
       "      <th>Yes</th>\n",
       "      <td>439</td>\n",
       "    </tr>\n",
       "    <tr>\n",
       "      <th>No</th>\n",
       "      <td>415</td>\n",
       "    </tr>\n",
       "  </tbody>\n",
       "</table>\n",
       "</div>"
      ],
      "text/plain": [
       "                         count\n",
       "Trouble_Sleeping              \n",
       "Two or more days a week    637\n",
       "Yes                        439\n",
       "No                         415"
      ]
     },
     "execution_count": 21,
     "metadata": {},
     "output_type": "execute_result"
    }
   ],
   "source": [
    "pd.DataFrame(df.Trouble_Sleeping.value_counts())"
   ]
  },
  {
   "cell_type": "code",
   "execution_count": 22,
   "metadata": {
    "_kg_hide-input": false,
    "execution": {
     "iopub.execute_input": "2023-02-17T05:56:59.900922Z",
     "iopub.status.busy": "2023-02-17T05:56:59.900373Z",
     "iopub.status.idle": "2023-02-17T05:56:59.912039Z",
     "shell.execute_reply": "2023-02-17T05:56:59.910981Z",
     "shell.execute_reply.started": "2023-02-17T05:56:59.900889Z"
    }
   },
   "outputs": [],
   "source": [
    "trouble_sleeping = df.groupby(\"Trouble_Sleeping\").Age.value_counts(normalize=True)"
   ]
  },
  {
   "cell_type": "code",
   "execution_count": 23,
   "metadata": {
    "_kg_hide-input": false,
    "execution": {
     "iopub.execute_input": "2023-02-17T05:56:59.914395Z",
     "iopub.status.busy": "2023-02-17T05:56:59.913789Z",
     "iopub.status.idle": "2023-02-17T05:56:59.931225Z",
     "shell.execute_reply": "2023-02-17T05:56:59.930100Z",
     "shell.execute_reply.started": "2023-02-17T05:56:59.914355Z"
    }
   },
   "outputs": [
    {
     "data": {
      "text/html": [
       "<div>\n",
       "<style scoped>\n",
       "    .dataframe tbody tr th:only-of-type {\n",
       "        vertical-align: middle;\n",
       "    }\n",
       "\n",
       "    .dataframe tbody tr th {\n",
       "        vertical-align: top;\n",
       "    }\n",
       "\n",
       "    .dataframe thead th {\n",
       "        text-align: right;\n",
       "    }\n",
       "</style>\n",
       "<table border=\"1\" class=\"dataframe\">\n",
       "  <thead>\n",
       "    <tr style=\"text-align: right;\">\n",
       "      <th>Age</th>\n",
       "      <th>25-30</th>\n",
       "      <th>30-35</th>\n",
       "      <th>35-40</th>\n",
       "      <th>40-45</th>\n",
       "      <th>45-50</th>\n",
       "    </tr>\n",
       "    <tr>\n",
       "      <th>Trouble_Sleeping</th>\n",
       "      <th></th>\n",
       "      <th></th>\n",
       "      <th></th>\n",
       "      <th></th>\n",
       "      <th></th>\n",
       "    </tr>\n",
       "  </thead>\n",
       "  <tbody>\n",
       "    <tr>\n",
       "      <th>No</th>\n",
       "      <td>0.091566</td>\n",
       "      <td>0.257831</td>\n",
       "      <td>0.202410</td>\n",
       "      <td>0.228916</td>\n",
       "      <td>0.219277</td>\n",
       "    </tr>\n",
       "    <tr>\n",
       "      <th>Two or more days a week</th>\n",
       "      <td>0.111460</td>\n",
       "      <td>0.229199</td>\n",
       "      <td>0.202512</td>\n",
       "      <td>0.273155</td>\n",
       "      <td>0.183673</td>\n",
       "    </tr>\n",
       "    <tr>\n",
       "      <th>Yes</th>\n",
       "      <td>0.164009</td>\n",
       "      <td>0.193622</td>\n",
       "      <td>0.296128</td>\n",
       "      <td>0.202733</td>\n",
       "      <td>0.143508</td>\n",
       "    </tr>\n",
       "  </tbody>\n",
       "</table>\n",
       "</div>"
      ],
      "text/plain": [
       "Age                         25-30     30-35     35-40     40-45     45-50\n",
       "Trouble_Sleeping                                                         \n",
       "No                       0.091566  0.257831  0.202410  0.228916  0.219277\n",
       "Two or more days a week  0.111460  0.229199  0.202512  0.273155  0.183673\n",
       "Yes                      0.164009  0.193622  0.296128  0.202733  0.143508"
      ]
     },
     "execution_count": 23,
     "metadata": {},
     "output_type": "execute_result"
    }
   ],
   "source": [
    "trouble_sleeping.unstack()"
   ]
  },
  {
   "cell_type": "code",
   "execution_count": 24,
   "metadata": {
    "_kg_hide-input": false,
    "execution": {
     "iopub.execute_input": "2023-02-17T05:56:59.933332Z",
     "iopub.status.busy": "2023-02-17T05:56:59.932481Z",
     "iopub.status.idle": "2023-02-17T05:56:59.944238Z",
     "shell.execute_reply": "2023-02-17T05:56:59.942928Z",
     "shell.execute_reply.started": "2023-02-17T05:56:59.933287Z"
    }
   },
   "outputs": [
    {
     "data": {
      "text/html": [
       "<div>\n",
       "<style scoped>\n",
       "    .dataframe tbody tr th:only-of-type {\n",
       "        vertical-align: middle;\n",
       "    }\n",
       "\n",
       "    .dataframe tbody tr th {\n",
       "        vertical-align: top;\n",
       "    }\n",
       "\n",
       "    .dataframe thead th {\n",
       "        text-align: right;\n",
       "    }\n",
       "</style>\n",
       "<table border=\"1\" class=\"dataframe\">\n",
       "  <thead>\n",
       "    <tr style=\"text-align: right;\">\n",
       "      <th></th>\n",
       "      <th>count</th>\n",
       "    </tr>\n",
       "    <tr>\n",
       "      <th>Problems_Focusing</th>\n",
       "      <th></th>\n",
       "    </tr>\n",
       "  </thead>\n",
       "  <tbody>\n",
       "    <tr>\n",
       "      <th>No</th>\n",
       "      <td>583</td>\n",
       "    </tr>\n",
       "    <tr>\n",
       "      <th>Often</th>\n",
       "      <td>473</td>\n",
       "    </tr>\n",
       "    <tr>\n",
       "      <th>Yes</th>\n",
       "      <td>435</td>\n",
       "    </tr>\n",
       "  </tbody>\n",
       "</table>\n",
       "</div>"
      ],
      "text/plain": [
       "                   count\n",
       "Problems_Focusing       \n",
       "No                   583\n",
       "Often                473\n",
       "Yes                  435"
      ]
     },
     "execution_count": 24,
     "metadata": {},
     "output_type": "execute_result"
    }
   ],
   "source": [
    "pd.DataFrame(df.Problems_Focusing.value_counts())"
   ]
  },
  {
   "cell_type": "code",
   "execution_count": 25,
   "metadata": {
    "_kg_hide-input": false,
    "execution": {
     "iopub.execute_input": "2023-02-17T05:56:59.946242Z",
     "iopub.status.busy": "2023-02-17T05:56:59.945898Z",
     "iopub.status.idle": "2023-02-17T05:56:59.954367Z",
     "shell.execute_reply": "2023-02-17T05:56:59.953255Z",
     "shell.execute_reply.started": "2023-02-17T05:56:59.946211Z"
    }
   },
   "outputs": [],
   "source": [
    "problems_focusing = df.groupby(\"Problems_Focusing\").Age.value_counts(normalize=True)"
   ]
  },
  {
   "cell_type": "code",
   "execution_count": 26,
   "metadata": {
    "_kg_hide-input": false,
    "execution": {
     "iopub.execute_input": "2023-02-17T05:56:59.956683Z",
     "iopub.status.busy": "2023-02-17T05:56:59.956213Z",
     "iopub.status.idle": "2023-02-17T05:56:59.980240Z",
     "shell.execute_reply": "2023-02-17T05:56:59.978787Z",
     "shell.execute_reply.started": "2023-02-17T05:56:59.956636Z"
    }
   },
   "outputs": [
    {
     "data": {
      "text/html": [
       "<div>\n",
       "<style scoped>\n",
       "    .dataframe tbody tr th:only-of-type {\n",
       "        vertical-align: middle;\n",
       "    }\n",
       "\n",
       "    .dataframe tbody tr th {\n",
       "        vertical-align: top;\n",
       "    }\n",
       "\n",
       "    .dataframe thead th {\n",
       "        text-align: right;\n",
       "    }\n",
       "</style>\n",
       "<table border=\"1\" class=\"dataframe\">\n",
       "  <thead>\n",
       "    <tr style=\"text-align: right;\">\n",
       "      <th>Age</th>\n",
       "      <th>25-30</th>\n",
       "      <th>30-35</th>\n",
       "      <th>35-40</th>\n",
       "      <th>40-45</th>\n",
       "      <th>45-50</th>\n",
       "    </tr>\n",
       "    <tr>\n",
       "      <th>Problems_Focusing</th>\n",
       "      <th></th>\n",
       "      <th></th>\n",
       "      <th></th>\n",
       "      <th></th>\n",
       "      <th></th>\n",
       "    </tr>\n",
       "  </thead>\n",
       "  <tbody>\n",
       "    <tr>\n",
       "      <th>No</th>\n",
       "      <td>0.128645</td>\n",
       "      <td>0.245283</td>\n",
       "      <td>0.173242</td>\n",
       "      <td>0.245283</td>\n",
       "      <td>0.207547</td>\n",
       "    </tr>\n",
       "    <tr>\n",
       "      <th>Often</th>\n",
       "      <td>0.120507</td>\n",
       "      <td>0.253700</td>\n",
       "      <td>0.260042</td>\n",
       "      <td>0.213531</td>\n",
       "      <td>0.152220</td>\n",
       "    </tr>\n",
       "    <tr>\n",
       "      <th>Yes</th>\n",
       "      <td>0.112644</td>\n",
       "      <td>0.172414</td>\n",
       "      <td>0.273563</td>\n",
       "      <td>0.262069</td>\n",
       "      <td>0.179310</td>\n",
       "    </tr>\n",
       "  </tbody>\n",
       "</table>\n",
       "</div>"
      ],
      "text/plain": [
       "Age                   25-30     30-35     35-40     40-45     45-50\n",
       "Problems_Focusing                                                  \n",
       "No                 0.128645  0.245283  0.173242  0.245283  0.207547\n",
       "Often              0.120507  0.253700  0.260042  0.213531  0.152220\n",
       "Yes                0.112644  0.172414  0.273563  0.262069  0.179310"
      ]
     },
     "execution_count": 26,
     "metadata": {},
     "output_type": "execute_result"
    }
   ],
   "source": [
    "problems_focusing.unstack()"
   ]
  },
  {
   "cell_type": "code",
   "execution_count": 27,
   "metadata": {
    "_kg_hide-input": false,
    "execution": {
     "iopub.execute_input": "2023-02-17T05:56:59.982616Z",
     "iopub.status.busy": "2023-02-17T05:56:59.981701Z",
     "iopub.status.idle": "2023-02-17T05:56:59.993095Z",
     "shell.execute_reply": "2023-02-17T05:56:59.991654Z",
     "shell.execute_reply.started": "2023-02-17T05:56:59.982580Z"
    }
   },
   "outputs": [
    {
     "data": {
      "text/html": [
       "<div>\n",
       "<style scoped>\n",
       "    .dataframe tbody tr th:only-of-type {\n",
       "        vertical-align: middle;\n",
       "    }\n",
       "\n",
       "    .dataframe tbody tr th {\n",
       "        vertical-align: top;\n",
       "    }\n",
       "\n",
       "    .dataframe thead th {\n",
       "        text-align: right;\n",
       "    }\n",
       "</style>\n",
       "<table border=\"1\" class=\"dataframe\">\n",
       "  <thead>\n",
       "    <tr style=\"text-align: right;\">\n",
       "      <th></th>\n",
       "      <th>count</th>\n",
       "    </tr>\n",
       "    <tr>\n",
       "      <th>Eating_Disorder</th>\n",
       "      <th></th>\n",
       "    </tr>\n",
       "  </thead>\n",
       "  <tbody>\n",
       "    <tr>\n",
       "      <th>No</th>\n",
       "      <td>835</td>\n",
       "    </tr>\n",
       "    <tr>\n",
       "      <th>Yes</th>\n",
       "      <td>340</td>\n",
       "    </tr>\n",
       "    <tr>\n",
       "      <th>Not at all</th>\n",
       "      <td>316</td>\n",
       "    </tr>\n",
       "  </tbody>\n",
       "</table>\n",
       "</div>"
      ],
      "text/plain": [
       "                 count\n",
       "Eating_Disorder       \n",
       "No                 835\n",
       "Yes                340\n",
       "Not at all         316"
      ]
     },
     "execution_count": 27,
     "metadata": {},
     "output_type": "execute_result"
    }
   ],
   "source": [
    "pd.DataFrame(df.Eating_Disorder.value_counts())"
   ]
  },
  {
   "cell_type": "code",
   "execution_count": 28,
   "metadata": {
    "_kg_hide-input": false,
    "execution": {
     "iopub.execute_input": "2023-02-17T05:56:59.994885Z",
     "iopub.status.busy": "2023-02-17T05:56:59.994512Z",
     "iopub.status.idle": "2023-02-17T05:57:00.009044Z",
     "shell.execute_reply": "2023-02-17T05:57:00.007783Z",
     "shell.execute_reply.started": "2023-02-17T05:56:59.994851Z"
    }
   },
   "outputs": [],
   "source": [
    "eating_disorder = df.groupby(\"Eating_Disorder\").Age.value_counts(normalize=True)"
   ]
  },
  {
   "cell_type": "code",
   "execution_count": 29,
   "metadata": {
    "_kg_hide-input": true,
    "execution": {
     "iopub.execute_input": "2023-02-17T05:57:00.011423Z",
     "iopub.status.busy": "2023-02-17T05:57:00.010179Z",
     "iopub.status.idle": "2023-02-17T05:57:00.031581Z",
     "shell.execute_reply": "2023-02-17T05:57:00.030655Z",
     "shell.execute_reply.started": "2023-02-17T05:57:00.011376Z"
    }
   },
   "outputs": [
    {
     "data": {
      "text/html": [
       "<div>\n",
       "<style scoped>\n",
       "    .dataframe tbody tr th:only-of-type {\n",
       "        vertical-align: middle;\n",
       "    }\n",
       "\n",
       "    .dataframe tbody tr th {\n",
       "        vertical-align: top;\n",
       "    }\n",
       "\n",
       "    .dataframe thead th {\n",
       "        text-align: right;\n",
       "    }\n",
       "</style>\n",
       "<table border=\"1\" class=\"dataframe\">\n",
       "  <thead>\n",
       "    <tr style=\"text-align: right;\">\n",
       "      <th>Age</th>\n",
       "      <th>25-30</th>\n",
       "      <th>30-35</th>\n",
       "      <th>35-40</th>\n",
       "      <th>40-45</th>\n",
       "      <th>45-50</th>\n",
       "    </tr>\n",
       "    <tr>\n",
       "      <th>Eating_Disorder</th>\n",
       "      <th></th>\n",
       "      <th></th>\n",
       "      <th></th>\n",
       "      <th></th>\n",
       "      <th></th>\n",
       "    </tr>\n",
       "  </thead>\n",
       "  <tbody>\n",
       "    <tr>\n",
       "      <th>No</th>\n",
       "      <td>0.101796</td>\n",
       "      <td>0.188024</td>\n",
       "      <td>0.233533</td>\n",
       "      <td>0.282635</td>\n",
       "      <td>0.194012</td>\n",
       "    </tr>\n",
       "    <tr>\n",
       "      <th>Not at all</th>\n",
       "      <td>0.126582</td>\n",
       "      <td>0.246835</td>\n",
       "      <td>0.199367</td>\n",
       "      <td>0.193038</td>\n",
       "      <td>0.234177</td>\n",
       "    </tr>\n",
       "    <tr>\n",
       "      <th>Yes</th>\n",
       "      <td>0.164706</td>\n",
       "      <td>0.302941</td>\n",
       "      <td>0.250000</td>\n",
       "      <td>0.179412</td>\n",
       "      <td>0.102941</td>\n",
       "    </tr>\n",
       "  </tbody>\n",
       "</table>\n",
       "</div>"
      ],
      "text/plain": [
       "Age                 25-30     30-35     35-40     40-45     45-50\n",
       "Eating_Disorder                                                  \n",
       "No               0.101796  0.188024  0.233533  0.282635  0.194012\n",
       "Not at all       0.126582  0.246835  0.199367  0.193038  0.234177\n",
       "Yes              0.164706  0.302941  0.250000  0.179412  0.102941"
      ]
     },
     "execution_count": 29,
     "metadata": {},
     "output_type": "execute_result"
    }
   ],
   "source": [
    "eating_disorder.unstack()"
   ]
  },
  {
   "cell_type": "code",
   "execution_count": 30,
   "metadata": {
    "_kg_hide-input": false,
    "execution": {
     "iopub.execute_input": "2023-02-17T05:57:00.033612Z",
     "iopub.status.busy": "2023-02-17T05:57:00.032703Z",
     "iopub.status.idle": "2023-02-17T05:57:00.045283Z",
     "shell.execute_reply": "2023-02-17T05:57:00.043560Z",
     "shell.execute_reply.started": "2023-02-17T05:57:00.033573Z"
    }
   },
   "outputs": [
    {
     "data": {
      "text/html": [
       "<div>\n",
       "<style scoped>\n",
       "    .dataframe tbody tr th:only-of-type {\n",
       "        vertical-align: middle;\n",
       "    }\n",
       "\n",
       "    .dataframe tbody tr th {\n",
       "        vertical-align: top;\n",
       "    }\n",
       "\n",
       "    .dataframe thead th {\n",
       "        text-align: right;\n",
       "    }\n",
       "</style>\n",
       "<table border=\"1\" class=\"dataframe\">\n",
       "  <thead>\n",
       "    <tr style=\"text-align: right;\">\n",
       "      <th></th>\n",
       "      <th>count</th>\n",
       "    </tr>\n",
       "    <tr>\n",
       "      <th>Anxious</th>\n",
       "      <th></th>\n",
       "    </tr>\n",
       "  </thead>\n",
       "  <tbody>\n",
       "    <tr>\n",
       "      <th>Yes</th>\n",
       "      <td>968</td>\n",
       "    </tr>\n",
       "    <tr>\n",
       "      <th>No</th>\n",
       "      <td>523</td>\n",
       "    </tr>\n",
       "  </tbody>\n",
       "</table>\n",
       "</div>"
      ],
      "text/plain": [
       "         count\n",
       "Anxious       \n",
       "Yes        968\n",
       "No         523"
      ]
     },
     "execution_count": 30,
     "metadata": {},
     "output_type": "execute_result"
    }
   ],
   "source": [
    "pd.DataFrame(df.Anxious.value_counts())"
   ]
  },
  {
   "cell_type": "code",
   "execution_count": 31,
   "metadata": {
    "_kg_hide-input": false,
    "execution": {
     "iopub.execute_input": "2023-02-17T05:57:00.047076Z",
     "iopub.status.busy": "2023-02-17T05:57:00.046748Z",
     "iopub.status.idle": "2023-02-17T05:57:00.059750Z",
     "shell.execute_reply": "2023-02-17T05:57:00.058391Z",
     "shell.execute_reply.started": "2023-02-17T05:57:00.047048Z"
    }
   },
   "outputs": [],
   "source": [
    "anxious = df.groupby(\"Anxious\").Age.value_counts(normalize=True)"
   ]
  },
  {
   "cell_type": "code",
   "execution_count": 32,
   "metadata": {
    "_kg_hide-input": false,
    "execution": {
     "iopub.execute_input": "2023-02-17T05:57:00.062324Z",
     "iopub.status.busy": "2023-02-17T05:57:00.061832Z",
     "iopub.status.idle": "2023-02-17T05:57:00.077902Z",
     "shell.execute_reply": "2023-02-17T05:57:00.076742Z",
     "shell.execute_reply.started": "2023-02-17T05:57:00.062257Z"
    }
   },
   "outputs": [
    {
     "data": {
      "text/html": [
       "<div>\n",
       "<style scoped>\n",
       "    .dataframe tbody tr th:only-of-type {\n",
       "        vertical-align: middle;\n",
       "    }\n",
       "\n",
       "    .dataframe tbody tr th {\n",
       "        vertical-align: top;\n",
       "    }\n",
       "\n",
       "    .dataframe thead th {\n",
       "        text-align: right;\n",
       "    }\n",
       "</style>\n",
       "<table border=\"1\" class=\"dataframe\">\n",
       "  <thead>\n",
       "    <tr style=\"text-align: right;\">\n",
       "      <th>Age</th>\n",
       "      <th>25-30</th>\n",
       "      <th>30-35</th>\n",
       "      <th>35-40</th>\n",
       "      <th>40-45</th>\n",
       "      <th>45-50</th>\n",
       "    </tr>\n",
       "    <tr>\n",
       "      <th>Anxious</th>\n",
       "      <th></th>\n",
       "      <th></th>\n",
       "      <th></th>\n",
       "      <th></th>\n",
       "      <th></th>\n",
       "    </tr>\n",
       "  </thead>\n",
       "  <tbody>\n",
       "    <tr>\n",
       "      <th>No</th>\n",
       "      <td>0.147228</td>\n",
       "      <td>0.219885</td>\n",
       "      <td>0.225621</td>\n",
       "      <td>0.261950</td>\n",
       "      <td>0.145315</td>\n",
       "    </tr>\n",
       "    <tr>\n",
       "      <th>Yes</th>\n",
       "      <td>0.107438</td>\n",
       "      <td>0.230372</td>\n",
       "      <td>0.232438</td>\n",
       "      <td>0.228306</td>\n",
       "      <td>0.201446</td>\n",
       "    </tr>\n",
       "  </tbody>\n",
       "</table>\n",
       "</div>"
      ],
      "text/plain": [
       "Age         25-30     30-35     35-40     40-45     45-50\n",
       "Anxious                                                  \n",
       "No       0.147228  0.219885  0.225621  0.261950  0.145315\n",
       "Yes      0.107438  0.230372  0.232438  0.228306  0.201446"
      ]
     },
     "execution_count": 32,
     "metadata": {},
     "output_type": "execute_result"
    }
   ],
   "source": [
    "anxious.unstack()"
   ]
  },
  {
   "cell_type": "code",
   "execution_count": 33,
   "metadata": {
    "_kg_hide-input": false,
    "execution": {
     "iopub.execute_input": "2023-02-17T05:57:00.080038Z",
     "iopub.status.busy": "2023-02-17T05:57:00.079578Z",
     "iopub.status.idle": "2023-02-17T05:57:00.097535Z",
     "shell.execute_reply": "2023-02-17T05:57:00.096281Z",
     "shell.execute_reply.started": "2023-02-17T05:57:00.080003Z"
    }
   },
   "outputs": [
    {
     "data": {
      "text/html": [
       "<div>\n",
       "<style scoped>\n",
       "    .dataframe tbody tr th:only-of-type {\n",
       "        vertical-align: middle;\n",
       "    }\n",
       "\n",
       "    .dataframe tbody tr th {\n",
       "        vertical-align: top;\n",
       "    }\n",
       "\n",
       "    .dataframe thead th {\n",
       "        text-align: right;\n",
       "    }\n",
       "</style>\n",
       "<table border=\"1\" class=\"dataframe\">\n",
       "  <thead>\n",
       "    <tr style=\"text-align: right;\">\n",
       "      <th></th>\n",
       "      <th>count</th>\n",
       "    </tr>\n",
       "    <tr>\n",
       "      <th>Guilt</th>\n",
       "      <th></th>\n",
       "    </tr>\n",
       "  </thead>\n",
       "  <tbody>\n",
       "    <tr>\n",
       "      <th>No</th>\n",
       "      <td>621</td>\n",
       "    </tr>\n",
       "    <tr>\n",
       "      <th>Maybe</th>\n",
       "      <td>528</td>\n",
       "    </tr>\n",
       "    <tr>\n",
       "      <th>Yes</th>\n",
       "      <td>342</td>\n",
       "    </tr>\n",
       "  </tbody>\n",
       "</table>\n",
       "</div>"
      ],
      "text/plain": [
       "       count\n",
       "Guilt       \n",
       "No       621\n",
       "Maybe    528\n",
       "Yes      342"
      ]
     },
     "execution_count": 33,
     "metadata": {},
     "output_type": "execute_result"
    }
   ],
   "source": [
    "pd.DataFrame(df.Guilt.value_counts())"
   ]
  },
  {
   "cell_type": "code",
   "execution_count": 34,
   "metadata": {
    "_kg_hide-input": false,
    "execution": {
     "iopub.execute_input": "2023-02-17T05:57:00.099454Z",
     "iopub.status.busy": "2023-02-17T05:57:00.099038Z",
     "iopub.status.idle": "2023-02-17T05:57:00.110731Z",
     "shell.execute_reply": "2023-02-17T05:57:00.109491Z",
     "shell.execute_reply.started": "2023-02-17T05:57:00.099418Z"
    }
   },
   "outputs": [],
   "source": [
    "guilt = df.groupby(\"Guilt\").Age.value_counts(normalize=True)"
   ]
  },
  {
   "cell_type": "code",
   "execution_count": 35,
   "metadata": {
    "_kg_hide-input": false,
    "execution": {
     "iopub.execute_input": "2023-02-17T05:57:00.112347Z",
     "iopub.status.busy": "2023-02-17T05:57:00.111970Z",
     "iopub.status.idle": "2023-02-17T05:57:00.131470Z",
     "shell.execute_reply": "2023-02-17T05:57:00.130009Z",
     "shell.execute_reply.started": "2023-02-17T05:57:00.112281Z"
    }
   },
   "outputs": [
    {
     "data": {
      "text/html": [
       "<div>\n",
       "<style scoped>\n",
       "    .dataframe tbody tr th:only-of-type {\n",
       "        vertical-align: middle;\n",
       "    }\n",
       "\n",
       "    .dataframe tbody tr th {\n",
       "        vertical-align: top;\n",
       "    }\n",
       "\n",
       "    .dataframe thead th {\n",
       "        text-align: right;\n",
       "    }\n",
       "</style>\n",
       "<table border=\"1\" class=\"dataframe\">\n",
       "  <thead>\n",
       "    <tr style=\"text-align: right;\">\n",
       "      <th>Age</th>\n",
       "      <th>25-30</th>\n",
       "      <th>30-35</th>\n",
       "      <th>35-40</th>\n",
       "      <th>40-45</th>\n",
       "      <th>45-50</th>\n",
       "    </tr>\n",
       "    <tr>\n",
       "      <th>Guilt</th>\n",
       "      <th></th>\n",
       "      <th></th>\n",
       "      <th></th>\n",
       "      <th></th>\n",
       "      <th></th>\n",
       "    </tr>\n",
       "  </thead>\n",
       "  <tbody>\n",
       "    <tr>\n",
       "      <th>Maybe</th>\n",
       "      <td>0.117424</td>\n",
       "      <td>0.229167</td>\n",
       "      <td>0.202652</td>\n",
       "      <td>0.229167</td>\n",
       "      <td>0.221591</td>\n",
       "    </tr>\n",
       "    <tr>\n",
       "      <th>No</th>\n",
       "      <td>0.096618</td>\n",
       "      <td>0.241546</td>\n",
       "      <td>0.210950</td>\n",
       "      <td>0.270531</td>\n",
       "      <td>0.180354</td>\n",
       "    </tr>\n",
       "    <tr>\n",
       "      <th>Yes</th>\n",
       "      <td>0.172515</td>\n",
       "      <td>0.195906</td>\n",
       "      <td>0.307018</td>\n",
       "      <td>0.201754</td>\n",
       "      <td>0.122807</td>\n",
       "    </tr>\n",
       "  </tbody>\n",
       "</table>\n",
       "</div>"
      ],
      "text/plain": [
       "Age       25-30     30-35     35-40     40-45     45-50\n",
       "Guilt                                                  \n",
       "Maybe  0.117424  0.229167  0.202652  0.229167  0.221591\n",
       "No     0.096618  0.241546  0.210950  0.270531  0.180354\n",
       "Yes    0.172515  0.195906  0.307018  0.201754  0.122807"
      ]
     },
     "execution_count": 35,
     "metadata": {},
     "output_type": "execute_result"
    }
   ],
   "source": [
    "guilt.unstack()"
   ]
  },
  {
   "cell_type": "code",
   "execution_count": 36,
   "metadata": {
    "_kg_hide-input": false,
    "execution": {
     "iopub.execute_input": "2023-02-17T05:57:00.133410Z",
     "iopub.status.busy": "2023-02-17T05:57:00.132961Z",
     "iopub.status.idle": "2023-02-17T05:57:00.145196Z",
     "shell.execute_reply": "2023-02-17T05:57:00.143966Z",
     "shell.execute_reply.started": "2023-02-17T05:57:00.133374Z"
    }
   },
   "outputs": [
    {
     "data": {
      "text/html": [
       "<div>\n",
       "<style scoped>\n",
       "    .dataframe tbody tr th:only-of-type {\n",
       "        vertical-align: middle;\n",
       "    }\n",
       "\n",
       "    .dataframe tbody tr th {\n",
       "        vertical-align: top;\n",
       "    }\n",
       "\n",
       "    .dataframe thead th {\n",
       "        text-align: right;\n",
       "    }\n",
       "</style>\n",
       "<table border=\"1\" class=\"dataframe\">\n",
       "  <thead>\n",
       "    <tr style=\"text-align: right;\">\n",
       "      <th></th>\n",
       "      <th>count</th>\n",
       "    </tr>\n",
       "    <tr>\n",
       "      <th>Problems_Bonding</th>\n",
       "      <th></th>\n",
       "    </tr>\n",
       "  </thead>\n",
       "  <tbody>\n",
       "    <tr>\n",
       "      <th>No</th>\n",
       "      <td>554</td>\n",
       "    </tr>\n",
       "    <tr>\n",
       "      <th>Sometimes</th>\n",
       "      <td>539</td>\n",
       "    </tr>\n",
       "    <tr>\n",
       "      <th>Yes</th>\n",
       "      <td>398</td>\n",
       "    </tr>\n",
       "  </tbody>\n",
       "</table>\n",
       "</div>"
      ],
      "text/plain": [
       "                  count\n",
       "Problems_Bonding       \n",
       "No                  554\n",
       "Sometimes           539\n",
       "Yes                 398"
      ]
     },
     "execution_count": 36,
     "metadata": {},
     "output_type": "execute_result"
    }
   ],
   "source": [
    "pd.DataFrame(df.Problems_Bonding.value_counts())"
   ]
  },
  {
   "cell_type": "code",
   "execution_count": 37,
   "metadata": {
    "_kg_hide-input": false,
    "execution": {
     "iopub.execute_input": "2023-02-17T05:57:00.147339Z",
     "iopub.status.busy": "2023-02-17T05:57:00.146842Z",
     "iopub.status.idle": "2023-02-17T05:57:00.159733Z",
     "shell.execute_reply": "2023-02-17T05:57:00.158425Z",
     "shell.execute_reply.started": "2023-02-17T05:57:00.147269Z"
    }
   },
   "outputs": [],
   "source": [
    "problems_bonding = df.groupby(\"Problems_Bonding\").Age.value_counts(normalize=True)"
   ]
  },
  {
   "cell_type": "code",
   "execution_count": 38,
   "metadata": {
    "_kg_hide-input": false,
    "execution": {
     "iopub.execute_input": "2023-02-17T05:57:00.162003Z",
     "iopub.status.busy": "2023-02-17T05:57:00.161436Z",
     "iopub.status.idle": "2023-02-17T05:57:00.179593Z",
     "shell.execute_reply": "2023-02-17T05:57:00.178385Z",
     "shell.execute_reply.started": "2023-02-17T05:57:00.161955Z"
    }
   },
   "outputs": [
    {
     "data": {
      "text/html": [
       "<div>\n",
       "<style scoped>\n",
       "    .dataframe tbody tr th:only-of-type {\n",
       "        vertical-align: middle;\n",
       "    }\n",
       "\n",
       "    .dataframe tbody tr th {\n",
       "        vertical-align: top;\n",
       "    }\n",
       "\n",
       "    .dataframe thead th {\n",
       "        text-align: right;\n",
       "    }\n",
       "</style>\n",
       "<table border=\"1\" class=\"dataframe\">\n",
       "  <thead>\n",
       "    <tr style=\"text-align: right;\">\n",
       "      <th>Age</th>\n",
       "      <th>25-30</th>\n",
       "      <th>30-35</th>\n",
       "      <th>35-40</th>\n",
       "      <th>40-45</th>\n",
       "      <th>45-50</th>\n",
       "    </tr>\n",
       "    <tr>\n",
       "      <th>Problems_Bonding</th>\n",
       "      <th></th>\n",
       "      <th></th>\n",
       "      <th></th>\n",
       "      <th></th>\n",
       "      <th></th>\n",
       "    </tr>\n",
       "  </thead>\n",
       "  <tbody>\n",
       "    <tr>\n",
       "      <th>No</th>\n",
       "      <td>0.124549</td>\n",
       "      <td>0.194946</td>\n",
       "      <td>0.223827</td>\n",
       "      <td>0.288809</td>\n",
       "      <td>0.167870</td>\n",
       "    </tr>\n",
       "    <tr>\n",
       "      <th>Sometimes</th>\n",
       "      <td>0.129870</td>\n",
       "      <td>0.257885</td>\n",
       "      <td>0.243043</td>\n",
       "      <td>0.172542</td>\n",
       "      <td>0.196660</td>\n",
       "    </tr>\n",
       "    <tr>\n",
       "      <th>Yes</th>\n",
       "      <td>0.105528</td>\n",
       "      <td>0.228643</td>\n",
       "      <td>0.221106</td>\n",
       "      <td>0.263819</td>\n",
       "      <td>0.180905</td>\n",
       "    </tr>\n",
       "  </tbody>\n",
       "</table>\n",
       "</div>"
      ],
      "text/plain": [
       "Age                  25-30     30-35     35-40     40-45     45-50\n",
       "Problems_Bonding                                                  \n",
       "No                0.124549  0.194946  0.223827  0.288809  0.167870\n",
       "Sometimes         0.129870  0.257885  0.243043  0.172542  0.196660\n",
       "Yes               0.105528  0.228643  0.221106  0.263819  0.180905"
      ]
     },
     "execution_count": 38,
     "metadata": {},
     "output_type": "execute_result"
    }
   ],
   "source": [
    "problems_bonding.unstack()"
   ]
  },
  {
   "cell_type": "code",
   "execution_count": 39,
   "metadata": {
    "_kg_hide-input": false,
    "execution": {
     "iopub.execute_input": "2023-02-17T05:57:00.182333Z",
     "iopub.status.busy": "2023-02-17T05:57:00.181085Z",
     "iopub.status.idle": "2023-02-17T05:57:00.199422Z",
     "shell.execute_reply": "2023-02-17T05:57:00.198079Z",
     "shell.execute_reply.started": "2023-02-17T05:57:00.182266Z"
    }
   },
   "outputs": [
    {
     "data": {
      "text/html": [
       "<div>\n",
       "<style scoped>\n",
       "    .dataframe tbody tr th:only-of-type {\n",
       "        vertical-align: middle;\n",
       "    }\n",
       "\n",
       "    .dataframe tbody tr th {\n",
       "        vertical-align: top;\n",
       "    }\n",
       "\n",
       "    .dataframe thead th {\n",
       "        text-align: right;\n",
       "    }\n",
       "</style>\n",
       "<table border=\"1\" class=\"dataframe\">\n",
       "  <thead>\n",
       "    <tr style=\"text-align: right;\">\n",
       "      <th></th>\n",
       "      <th>count</th>\n",
       "    </tr>\n",
       "    <tr>\n",
       "      <th>Suicide_Attempt</th>\n",
       "      <th></th>\n",
       "    </tr>\n",
       "  </thead>\n",
       "  <tbody>\n",
       "    <tr>\n",
       "      <th>No</th>\n",
       "      <td>703</td>\n",
       "    </tr>\n",
       "    <tr>\n",
       "      <th>Yes</th>\n",
       "      <td>453</td>\n",
       "    </tr>\n",
       "    <tr>\n",
       "      <th>Not interested to say</th>\n",
       "      <td>335</td>\n",
       "    </tr>\n",
       "  </tbody>\n",
       "</table>\n",
       "</div>"
      ],
      "text/plain": [
       "                       count\n",
       "Suicide_Attempt             \n",
       "No                       703\n",
       "Yes                      453\n",
       "Not interested to say    335"
      ]
     },
     "execution_count": 39,
     "metadata": {},
     "output_type": "execute_result"
    }
   ],
   "source": [
    "pd.DataFrame(df.Suicide_Attempt.value_counts())"
   ]
  },
  {
   "cell_type": "code",
   "execution_count": 40,
   "metadata": {
    "_kg_hide-input": false,
    "execution": {
     "iopub.execute_input": "2023-02-17T05:57:00.201710Z",
     "iopub.status.busy": "2023-02-17T05:57:00.200899Z",
     "iopub.status.idle": "2023-02-17T05:57:00.209846Z",
     "shell.execute_reply": "2023-02-17T05:57:00.208375Z",
     "shell.execute_reply.started": "2023-02-17T05:57:00.201659Z"
    }
   },
   "outputs": [],
   "source": [
    "suicide_attempt = df.groupby(\"Suicide_Attempt\").Age.value_counts(normalize=True)"
   ]
  },
  {
   "cell_type": "code",
   "execution_count": 41,
   "metadata": {
    "_kg_hide-input": false,
    "execution": {
     "iopub.execute_input": "2023-02-17T05:57:00.212459Z",
     "iopub.status.busy": "2023-02-17T05:57:00.211461Z",
     "iopub.status.idle": "2023-02-17T05:57:00.229833Z",
     "shell.execute_reply": "2023-02-17T05:57:00.228684Z",
     "shell.execute_reply.started": "2023-02-17T05:57:00.212399Z"
    }
   },
   "outputs": [
    {
     "data": {
      "text/html": [
       "<div>\n",
       "<style scoped>\n",
       "    .dataframe tbody tr th:only-of-type {\n",
       "        vertical-align: middle;\n",
       "    }\n",
       "\n",
       "    .dataframe tbody tr th {\n",
       "        vertical-align: top;\n",
       "    }\n",
       "\n",
       "    .dataframe thead th {\n",
       "        text-align: right;\n",
       "    }\n",
       "</style>\n",
       "<table border=\"1\" class=\"dataframe\">\n",
       "  <thead>\n",
       "    <tr style=\"text-align: right;\">\n",
       "      <th>Age</th>\n",
       "      <th>25-30</th>\n",
       "      <th>30-35</th>\n",
       "      <th>35-40</th>\n",
       "      <th>40-45</th>\n",
       "      <th>45-50</th>\n",
       "    </tr>\n",
       "    <tr>\n",
       "      <th>Suicide_Attempt</th>\n",
       "      <th></th>\n",
       "      <th></th>\n",
       "      <th></th>\n",
       "      <th></th>\n",
       "      <th></th>\n",
       "    </tr>\n",
       "  </thead>\n",
       "  <tbody>\n",
       "    <tr>\n",
       "      <th>No</th>\n",
       "      <td>0.098151</td>\n",
       "      <td>0.223329</td>\n",
       "      <td>0.229018</td>\n",
       "      <td>0.233286</td>\n",
       "      <td>0.216216</td>\n",
       "    </tr>\n",
       "    <tr>\n",
       "      <th>Not interested to say</th>\n",
       "      <td>0.152239</td>\n",
       "      <td>0.244776</td>\n",
       "      <td>0.191045</td>\n",
       "      <td>0.235821</td>\n",
       "      <td>0.176119</td>\n",
       "    </tr>\n",
       "    <tr>\n",
       "      <th>Yes</th>\n",
       "      <td>0.134658</td>\n",
       "      <td>0.218543</td>\n",
       "      <td>0.260486</td>\n",
       "      <td>0.253863</td>\n",
       "      <td>0.132450</td>\n",
       "    </tr>\n",
       "  </tbody>\n",
       "</table>\n",
       "</div>"
      ],
      "text/plain": [
       "Age                       25-30     30-35     35-40     40-45     45-50\n",
       "Suicide_Attempt                                                        \n",
       "No                     0.098151  0.223329  0.229018  0.233286  0.216216\n",
       "Not interested to say  0.152239  0.244776  0.191045  0.235821  0.176119\n",
       "Yes                    0.134658  0.218543  0.260486  0.253863  0.132450"
      ]
     },
     "execution_count": 41,
     "metadata": {},
     "output_type": "execute_result"
    }
   ],
   "source": [
    "suicide_attempt.unstack()"
   ]
  },
  {
   "cell_type": "markdown",
   "metadata": {},
   "source": [
    "# Data Visualization and Analysis"
   ]
  },
  {
   "cell_type": "code",
   "execution_count": 42,
   "metadata": {
    "execution": {
     "iopub.execute_input": "2023-02-17T05:57:00.237974Z",
     "iopub.status.busy": "2023-02-17T05:57:00.237570Z",
     "iopub.status.idle": "2023-02-17T05:57:00.570358Z",
     "shell.execute_reply": "2023-02-17T05:57:00.569066Z",
     "shell.execute_reply.started": "2023-02-17T05:57:00.237939Z"
    }
   },
   "outputs": [
    {
     "data": {
      "text/plain": [
       "Text(0.5, 1.0, 'Mother Age Groups')"
      ]
     },
     "execution_count": 42,
     "metadata": {},
     "output_type": "execute_result"
    },
    {
     "data": {
      "image/png": "[encoded data removed]",
      "text/plain": [
       "<Figure size 1000x600 with 2 Axes>"
      ]
     },
     "metadata": {},
     "output_type": "display_data"
    }
   ],
   "source": [
    "pp.figure(figsize=(10,6))\n",
    "\n",
    "pp.subplot(1,2,1);df.Age.value_counts().plot(kind='pie', colors=['#feedde', '#fdbe85','#fd8d3c','#e6550d','#a63603']); pp.title('Mother Age Groups')\n",
    "\n",
    "pp.subplot(1,2,2);df.Age.value_counts().plot(kind='bar', color=['#feedde', '#fdbe85','#fd8d3c','#e6550d','#a63603']); pp.title('Mother Age Groups')"
   ]
  },
  {
   "cell_type": "markdown",
   "metadata": {},
   "source": [
    "Women between the  ages of 25 through 50 are included in this study.  The largest group ranges between the ages of 40 through 45.  The smallest respondent group is between the ages of 25 through 30. "
   ]
  },
  {
   "cell_type": "code",
   "execution_count": 43,
   "metadata": {
    "execution": {
     "iopub.execute_input": "2023-02-17T05:57:00.572257Z",
     "iopub.status.busy": "2023-02-17T05:57:00.571776Z",
     "iopub.status.idle": "2023-02-17T05:57:00.874148Z",
     "shell.execute_reply": "2023-02-17T05:57:00.872765Z",
     "shell.execute_reply.started": "2023-02-17T05:57:00.572189Z"
    }
   },
   "outputs": [
    {
     "data": {
      "text/plain": [
       "Text(0.5, 1.0, 'Feeling Sad or Tearful ')"
      ]
     },
     "execution_count": 43,
     "metadata": {},
     "output_type": "execute_result"
    },
    {
     "data": {
      "image/png": "[encoded data removed]",
      "text/plain": [
       "<Figure size 1000x600 with 2 Axes>"
      ]
     },
     "metadata": {},
     "output_type": "display_data"
    }
   ],
   "source": [
    "pp.figure(figsize=(10,6))\n",
    "\n",
    "pp.subplot(1,2,1); sad_tearful.plot(kind='barh', color = '#fdbe85'); pp.title('Feeling Sad or Tearful ')\n",
    "\n",
    "pp.subplot(1,2,2);df.Sad_Tearful.value_counts().plot(kind='pie', colors=['#feedde', '#fdbe85','#fd8d3c','#e6550d','#a63603']); pp.title('Feeling Sad or Tearful ')\n",
    "\n",
    "#pp.subplot(1,3,2);df.Sad_Tearful.value_counts().plot(kind='bar', color=['#feedde', '#fdbe85','#fd8d3c','#e6550d','#a63603']); pp.title('Feeling Sad or Tearful')\n",
    "\n",
    "#pp.subplot(1,2,2); sad_tearful.plot(kind='barh', color = '#a63603')"
   ]
  },
  {
   "cell_type": "markdown",
   "metadata": {},
   "source": []
  },
  {
   "cell_type": "code",
   "execution_count": 44,
   "metadata": {
    "execution": {
     "iopub.execute_input": "2023-02-17T05:57:00.876192Z",
     "iopub.status.busy": "2023-02-17T05:57:00.875855Z",
     "iopub.status.idle": "2023-02-17T05:57:01.189015Z",
     "shell.execute_reply": "2023-02-17T05:57:01.187731Z",
     "shell.execute_reply.started": "2023-02-17T05:57:00.876161Z"
    }
   },
   "outputs": [
    {
     "data": {
      "text/plain": [
       "Text(0.5, 1.0, 'Irritable Towards Baby & Partner ')"
      ]
     },
     "execution_count": 44,
     "metadata": {},
     "output_type": "execute_result"
    },
    {
     "data": {
      "image/png": "[encoded data removed]",
      "text/plain": [
       "<Figure size 1000x600 with 2 Axes>"
      ]
     },
     "metadata": {},
     "output_type": "display_data"
    }
   ],
   "source": [
    "pp.figure(figsize=(10,6))\n",
    "\n",
    "pp.subplot(1,3,1);df.Irritable.value_counts().plot(kind='bar', color=['#feedde', '#fdbe85','#fd8d3c','#e6550d','#a63603']); pp.title('Irritable Towards Baby & Partner ')\n",
    "\n",
    "pp.subplot(1,3,2); irritable.plot(kind='bar', color = '#fdbe85'); pp.title('Irritable Towards Baby & Partner ')\n",
    "\n",
    "\n",
    "\n",
    "\n",
    "\n"
   ]
  },
  {
   "cell_type": "markdown",
   "metadata": {},
   "source": [
    "A large number of respondents reported feeling irritable towards their baby and partner.  Mothers between the ages of 40-45 reported the most cases of irritability. "
   ]
  },
  {
   "cell_type": "code",
   "execution_count": 45,
   "metadata": {
    "execution": {
     "iopub.execute_input": "2023-02-17T05:57:01.191467Z",
     "iopub.status.busy": "2023-02-17T05:57:01.190728Z",
     "iopub.status.idle": "2023-02-17T05:57:01.541199Z",
     "shell.execute_reply": "2023-02-17T05:57:01.540188Z",
     "shell.execute_reply.started": "2023-02-17T05:57:01.191425Z"
    }
   },
   "outputs": [
    {
     "data": {
      "text/plain": [
       "Text(0.5, 1.0, 'Trouble Sleeping at Night')"
      ]
     },
     "execution_count": 45,
     "metadata": {},
     "output_type": "execute_result"
    },
    {
     "data": {
      "image/png": "[encoded data removed]",
      "text/plain": [
       "<Figure size 1000x500 with 1 Axes>"
      ]
     },
     "metadata": {},
     "output_type": "display_data"
    },
    {
     "data": {
      "image/png": "[encoded data removed]",
      "text/plain": [
       "<Figure size 640x480 with 1 Axes>"
      ]
     },
     "metadata": {},
     "output_type": "display_data"
    }
   ],
   "source": [
    "plt.figure(figsize = (10,5))\n",
    "df.Trouble_Sleeping.value_counts().plot(kind='pie', colors=['#feedde', '#fdbe85','#fd8d3c','#e6550d','#a63603']); pp.title('Trouble Sleeping at Night')\n",
    "\n",
    "trouble_sleeping.unstack().plot(kind='barh',color=['#feedde', '#fdbe85','#fd8d3c','#e6550d','#a63603']); pp.title('Trouble Sleeping at Night')\n",
    "\n"
   ]
  },
  {
   "cell_type": "markdown",
   "metadata": {},
   "source": [
    "More than a third of the respondents have trouble sleeping at night with a significant number replying that they have trouble sleeping in general. Mothers between the ages of  40 - 45 have the most instances of having trouble sleeping two or more days a week. Mothers between the ages of 35 to 40 reported the most instances of having trouble sleeping at night in general. "
   ]
  },
  {
   "cell_type": "markdown",
   "metadata": {},
   "source": []
  },
  {
   "cell_type": "code",
   "execution_count": 46,
   "metadata": {
    "execution": {
     "iopub.execute_input": "2023-02-17T05:57:01.543468Z",
     "iopub.status.busy": "2023-02-17T05:57:01.542491Z",
     "iopub.status.idle": "2023-02-17T05:57:02.002385Z",
     "shell.execute_reply": "2023-02-17T05:57:02.001281Z",
     "shell.execute_reply.started": "2023-02-17T05:57:01.543429Z"
    }
   },
   "outputs": [
    {
     "data": {
      "text/plain": [
       "Text(0.5, 1.0, 'Overeating or Loss of Appetite ')"
      ]
     },
     "execution_count": 46,
     "metadata": {},
     "output_type": "execute_result"
    },
    {
     "data": {
      "image/png": "[encoded data removed]",
      "text/plain": [
       "<Figure size 1000x500 with 1 Axes>"
      ]
     },
     "metadata": {},
     "output_type": "display_data"
    },
    {
     "data": {
      "image/png": "[encoded data removed]",
      "text/plain": [
       "<Figure size 640x480 with 1 Axes>"
      ]
     },
     "metadata": {},
     "output_type": "display_data"
    }
   ],
   "source": [
    "plt.figure(figsize = (10,5))\n",
    "df.Eating_Disorder.value_counts().plot(kind='bar', color=['#feedde', '#fdbe85','#fd8d3c','#e6550d','#a63603']); pp.title('Overeating or Loss of Appetite')\n",
    "\n",
    "eating_disorder.unstack().plot(kind='barh',color=['#feedde', '#fdbe85','#fd8d3c','#e6550d','#a63603']); pp.title('Overeating or Loss of Appetite ')\n",
    "\n"
   ]
  },
  {
   "cell_type": "markdown",
   "metadata": {},
   "source": [
    "The majority of respondents reported no overeating or loss of appetite. Of the 'yes' responses, 30 -35 year olds were impacted the most. "
   ]
  },
  {
   "cell_type": "code",
   "execution_count": 47,
   "metadata": {
    "execution": {
     "iopub.execute_input": "2023-02-17T05:57:02.004779Z",
     "iopub.status.busy": "2023-02-17T05:57:02.003673Z",
     "iopub.status.idle": "2023-02-17T05:57:02.418635Z",
     "shell.execute_reply": "2023-02-17T05:57:02.417381Z",
     "shell.execute_reply.started": "2023-02-17T05:57:02.004735Z"
    }
   },
   "outputs": [
    {
     "data": {
      "text/plain": [
       "Text(0.5, 1.0, 'Problems Concentrating or Making Decisions ')"
      ]
     },
     "execution_count": 47,
     "metadata": {},
     "output_type": "execute_result"
    },
    {
     "data": {
      "image/png": "[encoded data removed]",
      "text/plain": [
       "<Figure size 1000x500 with 1 Axes>"
      ]
     },
     "metadata": {},
     "output_type": "display_data"
    },
    {
     "data": {
      "text/plain": [
       "<Figure size 1000x600 with 0 Axes>"
      ]
     },
     "metadata": {},
     "output_type": "display_data"
    },
    {
     "data": {
      "image/png": "[encoded data removed]",
      "text/plain": [
       "<Figure size 640x480 with 1 Axes>"
      ]
     },
     "metadata": {},
     "output_type": "display_data"
    }
   ],
   "source": [
    "plt.figure(figsize = (10,5))\n",
    "\n",
    "df.Problems_Focusing.value_counts().plot(kind='pie', colors=['#feedde', '#fdbe85','#fd8d3c','#e6550d','#a63603']); pp.title('Problems Concentrating or Making Decisions')\n",
    "\n",
    "plt.figure(figsize=(10,6))\n",
    "\n",
    "problems_focusing.unstack().plot(kind='barh',color=['#feedde', '#fdbe85','#fd8d3c','#e6550d','#a63603']); pp.title('Problems Concentrating or Making Decisions ')"
   ]
  },
  {
   "cell_type": "markdown",
   "metadata": {},
   "source": [
    "More than half of all respondents reported having problems concentrating or making decisions both in general and often. "
   ]
  },
  {
   "cell_type": "code",
   "execution_count": 48,
   "metadata": {
    "execution": {
     "iopub.execute_input": "2023-02-17T05:57:02.421562Z",
     "iopub.status.busy": "2023-02-17T05:57:02.420205Z",
     "iopub.status.idle": "2023-02-17T05:57:02.839166Z",
     "shell.execute_reply": "2023-02-17T05:57:02.837784Z",
     "shell.execute_reply.started": "2023-02-17T05:57:02.421508Z"
    }
   },
   "outputs": [
    {
     "data": {
      "text/plain": [
       "Text(0.5, 1.0, 'Feeling of Guilt ')"
      ]
     },
     "execution_count": 48,
     "metadata": {},
     "output_type": "execute_result"
    },
    {
     "data": {
      "image/png": "[encoded data removed]",
      "text/plain": [
       "<Figure size 1000x500 with 1 Axes>"
      ]
     },
     "metadata": {},
     "output_type": "display_data"
    },
    {
     "data": {
      "image/png": "[encoded data removed]",
      "text/plain": [
       "<Figure size 640x480 with 1 Axes>"
      ]
     },
     "metadata": {},
     "output_type": "display_data"
    }
   ],
   "source": [
    "plt.figure(figsize = (10,5))\n",
    "\n",
    "df.Guilt.value_counts().plot(kind='pie', colors=['#feedde', '#fdbe85','#fd8d3c','#e6550d','#a63603']); pp.title('Feeling of Guilt ')\n",
    "guilt.unstack().plot(kind='barh',color=['#feedde', '#fdbe85','#fd8d3c','#e6550d','#a63603']); pp.title('Feeling of Guilt ')"
   ]
  },
  {
   "cell_type": "markdown",
   "metadata": {},
   "source": [
    "More than half of the respondents stated they felt guilty or possibly felt guilty. More 35-40 year olds reported definantly feeling guilty than any other groups. "
   ]
  },
  {
   "cell_type": "code",
   "execution_count": 49,
   "metadata": {
    "execution": {
     "iopub.execute_input": "2023-02-17T05:57:02.841812Z",
     "iopub.status.busy": "2023-02-17T05:57:02.841022Z",
     "iopub.status.idle": "2023-02-17T05:57:03.224025Z",
     "shell.execute_reply": "2023-02-17T05:57:03.223132Z",
     "shell.execute_reply.started": "2023-02-17T05:57:02.841763Z"
    }
   },
   "outputs": [
    {
     "data": {
      "text/plain": [
       "Text(0.5, 1.0, 'Problems of Bonding with Baby ')"
      ]
     },
     "execution_count": 49,
     "metadata": {},
     "output_type": "execute_result"
    },
    {
     "data": {
      "image/png": "[encoded data removed]",
      "text/plain": [
       "<Figure size 1000x600 with 2 Axes>"
      ]
     },
     "metadata": {},
     "output_type": "display_data"
    }
   ],
   "source": [
    "pp.figure(figsize=(10,6))\n",
    "\n",
    "pp.subplot(1,2,1); problems_bonding.plot(kind='barh', color = '#fdbe85'); pp.title('Problems of Bonding with Baby ')\n",
    "\n",
    "pp.subplot(1,2,2);df.Problems_Bonding.value_counts().plot(kind='pie', colors=['#feedde', '#fdbe85','#fd8d3c','#e6550d','#a63603']); pp.title('Problems of Bonding with Baby ')\n"
   ]
  },
  {
   "cell_type": "markdown",
   "metadata": {},
   "source": [
    "More than half of the respondents reported having problems bonding with their baby sometimes or in general. "
   ]
  },
  {
   "cell_type": "code",
   "execution_count": 50,
   "metadata": {
    "execution": {
     "iopub.execute_input": "2023-02-17T05:57:03.226596Z",
     "iopub.status.busy": "2023-02-17T05:57:03.225327Z",
     "iopub.status.idle": "2023-02-17T05:57:03.619790Z",
     "shell.execute_reply": "2023-02-17T05:57:03.618363Z",
     "shell.execute_reply.started": "2023-02-17T05:57:03.226548Z"
    }
   },
   "outputs": [
    {
     "data": {
      "text/plain": [
       "Text(0.5, 1.0, 'Suicide Attempt  ')"
      ]
     },
     "execution_count": 50,
     "metadata": {},
     "output_type": "execute_result"
    },
    {
     "data": {
      "image/png": "[encoded data removed]",
      "text/plain": [
       "<Figure size 1000x500 with 1 Axes>"
      ]
     },
     "metadata": {},
     "output_type": "display_data"
    },
    {
     "data": {
      "image/png": "[encoded data removed]",
      "text/plain": [
       "<Figure size 640x480 with 1 Axes>"
      ]
     },
     "metadata": {},
     "output_type": "display_data"
    }
   ],
   "source": [
    "plt.figure(figsize = (10,5))\n",
    "\n",
    "df.Suicide_Attempt.value_counts().plot(kind='pie', colors=['#feedde', '#fdbe85','#fd8d3c','#e6550d','#a63603']); pp.title('Suicide Attempt  ')\n",
    "suicide_attempt.unstack().plot(kind='barh',color=['#feedde', '#fdbe85','#fd8d3c','#e6550d','#a63603']); pp.title('Suicide Attempt  ')"
   ]
  },
  {
   "cell_type": "markdown",
   "metadata": {},
   "source": [
    "Half of the respondents either reported having attempted suicide or not willing to respond to the question. With women between 35 to 45 reporting the most suicide attempts. "
   ]
  },
  {
   "cell_type": "markdown",
   "metadata": {},
   "source": [
    "# Major Data Insights\n",
    "\n",
    "1.Women between the ages of 25 through 50 are included in this study. <br>\n",
    "2.The largest group ranges between the ages of 40 through 45. <br>\n",
    "3.The smallest respondent group is between the ages of 25 through 30. <br>\n",
    "4.There is no significant difference between the number of respondents that felt sad or tearful. <br>\n",
    "5.Mothers between the ages of 35 to 40 reported the most responses of feeling sad and tearful.<br>\n",
    "6.A large number of respondents reported feeling irritable towards their baby and partner. <br>\n",
    "  Mothers between the ages of 40-45 reported the most cases of irritability.<br>\n",
    "7.More than a third of the respondents have trouble sleeping at night with a significant number replying that they have trouble sleeping in general. <br>\n",
    "    Mothers between the ages of 40 - 45 have the most instances of having trouble sleeping two or more days a week. <br>\n",
    "    Mothers between the ages of 35 to 40 reported the most instances of having trouble sleeping at night in general.The majority of respondents reported no overeating or loss of appetite. Of the 'yes' responses, 30 -35 year olds were impacted the most.<br>\n",
    "8.More than half of all respondents reported having problems concentrating or making decisions.<br>\n",
    "9.More than half of the respondents stated they felt guilty or possibly felt guilty.<br>\n",
    "10.More 35-40 year olds reported definitely feeling guilty than any other groups.<br>\n",
    "11.A third of the respondents reported having problems bonding with their baby sometimes or in general.<br>\n",
    "12.Half of the respondents either reported having attempted suicide or not willing to respond to the question. With women between 35 to 45 reporting the most suicide attempts.<br>\n"
   ]
  },
  {
   "cell_type": "markdown",
   "metadata": {},
   "source": [
    "\n",
    "# Problems\n",
    "\n",
    "The results  indicate that within the dataset of 1,491 respondents, the number of mothers possibly suffering from Postpartum depression far exceeds the documented  research that states one out of nine new mothers develop Postpartum depression.  The answers to the question referencing “Sad_Tearful”  yields the following results: No = 521, Yes = 521, and Sometimes = 443. Adding the responses for “Yes” and “Sometimes” reveals that two - thirds of the respondents experienced this symptom of Postpartum depression.  Taking into account the use of words in the other questions including sometimes, often, maybe and two or more days shows that two-thirds of the respondents indicate experiencing all of the symptoms with the exception of “Overeating or Loss of Appetite”. This question yields the following results: No = 835, Yes = 340, Not at All =316. \n",
    "\n",
    "\n",
    "Similarly, the results  indicate that within the dataset of 1,491 respondents, the number of mothers possibly suffering from Postpartum psychosis far exceeds the documented research that states  4 new mothers out of 1,000 develop Postpartum psychosis. The answers to the question regarding “Suicide Attempt”,   yields the following results: No = 703, Yes = 453, and Not Interested To Say =335. As stated previously, one of the symptoms of Postpartum psychosis is mothers hurting themselves or their baby.  The fact that 453 respondents admitted to a suicide attempt indicates that these mothers may be suffering from Postpartum psychosis. Additionally, 335 respondents answering “Not interested To Say”, may also have attempted suicide but did not want to answer “Yes”.  It is also possible that “Not Interested to  Say” responses were submitted by those who may have had thoughts of suicide but so far have made no actual attempt. The total possible suicide attempts is 788 which is more than half of the respondents. \n"
   ]
  },
  {
   "cell_type": "markdown",
   "metadata": {},
   "source": [
    "\n",
    "\n"
   ]
  },
  {
   "cell_type": "markdown",
   "metadata": {},
   "source": [
    "\n"
   ]
  }
 ],
 "metadata": {
  "kernelspec": {
   "display_name": "Python 3 (ipykernel)",
   "language": "python",
   "name": "python3"
  },
  "language_info": {
   "codemirror_mode": {
    "name": "ipython",
    "version": 3
   },
   "file_extension": ".py",
   "mimetype": "text/x-python",
   "name": "python",
   "nbconvert_exporter": "python",
   "pygments_lexer": "ipython3",
   "version": "3.9.5"
  }
 },
 "nbformat": 4,
 "nbformat_minor": 4
}
